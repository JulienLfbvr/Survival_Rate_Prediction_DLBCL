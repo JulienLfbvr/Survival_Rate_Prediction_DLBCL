{
 "nbformat": 4,
 "nbformat_minor": 0,
 "metadata": {
  "colab": {
   "provenance": []
  },
  "kernelspec": {
   "name": "python3",
   "display_name": "Python 3"
  },
  "language_info": {
   "name": "python"
  }
 },
 "cells": [
  {
   "cell_type": "code",
   "execution_count": 1,
   "metadata": {
    "colab": {
     "base_uri": "https://localhost:8080/"
    },
    "id": "yPiJ_CPbN40W",
    "outputId": "8200d3f8-c61a-4dd3-aaee-75301f44ce41"
   },
   "outputs": [
    {
     "output_type": "stream",
     "name": "stdout",
     "text": [
      "Looking in indexes: https://pypi.org/simple, https://us-python.pkg.dev/colab-wheels/public/simple/\n",
      "Collecting lifelines\n",
      "  Downloading lifelines-0.27.4-py3-none-any.whl (349 kB)\n",
      "\u001B[2K     \u001B[90m━━━━━━━━━━━━━━━━━━━━━━━━━━━━━━━━━━━━━━━\u001B[0m \u001B[32m349.7/349.7 KB\u001B[0m \u001B[31m5.3 MB/s\u001B[0m eta \u001B[36m0:00:00\u001B[0m\n",
      "\u001B[?25hRequirement already satisfied: matplotlib>=3.0 in /usr/local/lib/python3.9/dist-packages (from lifelines) (3.7.1)\n",
      "Requirement already satisfied: pandas>=1.0.0 in /usr/local/lib/python3.9/dist-packages (from lifelines) (1.4.4)\n",
      "Collecting formulaic>=0.2.2\n",
      "  Downloading formulaic-0.5.2-py3-none-any.whl (77 kB)\n",
      "\u001B[2K     \u001B[90m━━━━━━━━━━━━━━━━━━━━━━━━━━━━━━━━━━━━━━━━\u001B[0m \u001B[32m77.1/77.1 KB\u001B[0m \u001B[31m4.5 MB/s\u001B[0m eta \u001B[36m0:00:00\u001B[0m\n",
      "\u001B[?25hCollecting autograd-gamma>=0.3\n",
      "  Downloading autograd-gamma-0.5.0.tar.gz (4.0 kB)\n",
      "  Preparing metadata (setup.py) ... \u001B[?25l\u001B[?25hdone\n",
      "Requirement already satisfied: numpy>=1.14.0 in /usr/local/lib/python3.9/dist-packages (from lifelines) (1.22.4)\n",
      "Requirement already satisfied: autograd>=1.5 in /usr/local/lib/python3.9/dist-packages (from lifelines) (1.5)\n",
      "Requirement already satisfied: scipy>=1.2.0 in /usr/local/lib/python3.9/dist-packages (from lifelines) (1.10.1)\n",
      "Requirement already satisfied: future>=0.15.2 in /usr/local/lib/python3.9/dist-packages (from autograd>=1.5->lifelines) (0.18.3)\n",
      "Collecting interface-meta>=1.2.0\n",
      "  Downloading interface_meta-1.3.0-py3-none-any.whl (14 kB)\n",
      "Requirement already satisfied: typing-extensions>=4.2.0 in /usr/local/lib/python3.9/dist-packages (from formulaic>=0.2.2->lifelines) (4.5.0)\n",
      "Collecting astor>=0.8\n",
      "  Downloading astor-0.8.1-py2.py3-none-any.whl (27 kB)\n",
      "Requirement already satisfied: wrapt>=1.0 in /usr/local/lib/python3.9/dist-packages (from formulaic>=0.2.2->lifelines) (1.15.0)\n",
      "Requirement already satisfied: python-dateutil>=2.7 in /usr/local/lib/python3.9/dist-packages (from matplotlib>=3.0->lifelines) (2.8.2)\n",
      "Requirement already satisfied: pyparsing>=2.3.1 in /usr/local/lib/python3.9/dist-packages (from matplotlib>=3.0->lifelines) (3.0.9)\n",
      "Requirement already satisfied: fonttools>=4.22.0 in /usr/local/lib/python3.9/dist-packages (from matplotlib>=3.0->lifelines) (4.39.2)\n",
      "Requirement already satisfied: contourpy>=1.0.1 in /usr/local/lib/python3.9/dist-packages (from matplotlib>=3.0->lifelines) (1.0.7)\n",
      "Requirement already satisfied: packaging>=20.0 in /usr/local/lib/python3.9/dist-packages (from matplotlib>=3.0->lifelines) (23.0)\n",
      "Requirement already satisfied: importlib-resources>=3.2.0 in /usr/local/lib/python3.9/dist-packages (from matplotlib>=3.0->lifelines) (5.12.0)\n",
      "Requirement already satisfied: kiwisolver>=1.0.1 in /usr/local/lib/python3.9/dist-packages (from matplotlib>=3.0->lifelines) (1.4.4)\n",
      "Requirement already satisfied: cycler>=0.10 in /usr/local/lib/python3.9/dist-packages (from matplotlib>=3.0->lifelines) (0.11.0)\n",
      "Requirement already satisfied: pillow>=6.2.0 in /usr/local/lib/python3.9/dist-packages (from matplotlib>=3.0->lifelines) (8.4.0)\n",
      "Requirement already satisfied: pytz>=2020.1 in /usr/local/lib/python3.9/dist-packages (from pandas>=1.0.0->lifelines) (2022.7.1)\n",
      "Requirement already satisfied: zipp>=3.1.0 in /usr/local/lib/python3.9/dist-packages (from importlib-resources>=3.2.0->matplotlib>=3.0->lifelines) (3.15.0)\n",
      "Requirement already satisfied: six>=1.5 in /usr/local/lib/python3.9/dist-packages (from python-dateutil>=2.7->matplotlib>=3.0->lifelines) (1.16.0)\n",
      "Building wheels for collected packages: autograd-gamma\n",
      "  Building wheel for autograd-gamma (setup.py) ... \u001B[?25l\u001B[?25hdone\n",
      "  Created wheel for autograd-gamma: filename=autograd_gamma-0.5.0-py3-none-any.whl size=4049 sha256=1015e84102b4e5fd0ebf1ed8aa384ac99167f4b54750a8fe6b73d48ba4e53fc4\n",
      "  Stored in directory: /root/.cache/pip/wheels/a8/03/64/8557323821d25118c3a2dc1646996f7a962a8970d4b7d22473\n",
      "Successfully built autograd-gamma\n",
      "Installing collected packages: interface-meta, astor, autograd-gamma, formulaic, lifelines\n",
      "Successfully installed astor-0.8.1 autograd-gamma-0.5.0 formulaic-0.5.2 interface-meta-1.3.0 lifelines-0.27.4\n"
     ]
    }
   ],
   "source": []
  },
  {
   "cell_type": "code",
   "source": [
    "!pip install scikit-survival"
   ],
   "metadata": {
    "colab": {
     "base_uri": "https://localhost:8080/"
    },
    "id": "rtJD5BRMOQ7G",
    "outputId": "cf7afe94-9391-4e9d-881d-61c9c0433905"
   },
   "execution_count": 1,
   "outputs": [
    {
     "name": "stdout",
     "output_type": "stream",
     "text": [
      "Collecting scikit-survival\n",
      "  Downloading scikit_survival-0.20.0-cp39-cp39-win_amd64.whl (718 kB)\n",
      "     ---------------------------------------- 0.0/718.6 kB ? eta -:--:--\n",
      "     ------ ------------------------------- 122.9/718.6 kB 2.4 MB/s eta 0:00:01\n",
      "     ---------------------- --------------- 430.1/718.6 kB 4.5 MB/s eta 0:00:01\n",
      "     ------------------------------ ------- 583.7/718.6 kB 4.1 MB/s eta 0:00:01\n",
      "     -------------------------------------- 718.6/718.6 kB 4.1 MB/s eta 0:00:00\n",
      "Requirement already satisfied: pandas>=1.0.5 in c:\\users\\julie\\miniconda3\\envs\\m1_project\\lib\\site-packages (from scikit-survival) (1.5.3)\n",
      "Requirement already satisfied: scipy>=1.3.2 in c:\\users\\julie\\miniconda3\\envs\\m1_project\\lib\\site-packages (from scikit-survival) (1.10.1)\n",
      "Requirement already satisfied: scikit-learn<1.3,>=1.2.0 in c:\\users\\julie\\miniconda3\\envs\\m1_project\\lib\\site-packages (from scikit-survival) (1.2.1)\n",
      "Requirement already satisfied: numpy in c:\\users\\julie\\miniconda3\\envs\\m1_project\\lib\\site-packages (from scikit-survival) (1.24.2)\n",
      "Collecting osqp!=0.6.0,!=0.6.1\n",
      "  Downloading osqp-0.6.2.post8-cp39-cp39-win_amd64.whl (292 kB)\n",
      "     ---------------------------------------- 0.0/292.5 kB ? eta -:--:--\n",
      "     ------------------ ------------------- 143.4/292.5 kB 2.8 MB/s eta 0:00:01\n",
      "     --------------------------------- ---- 256.0/292.5 kB 3.2 MB/s eta 0:00:01\n",
      "     -------------------------------------- 292.5/292.5 kB 2.3 MB/s eta 0:00:00\n",
      "Collecting ecos\n",
      "  Downloading ecos-2.0.12-cp39-cp39-win_amd64.whl (72 kB)\n",
      "     ---------------------------------------- 0.0/72.0 kB ? eta -:--:--\n",
      "     ----- ---------------------------------- 10.2/72.0 kB ? eta -:--:--\n",
      "     ---------------- --------------------- 30.7/72.0 kB 660.6 kB/s eta 0:00:01\n",
      "     -------------------------------- ----- 61.4/72.0 kB 656.4 kB/s eta 0:00:01\n",
      "     -------------------------------------- 72.0/72.0 kB 494.3 kB/s eta 0:00:00\n",
      "Requirement already satisfied: joblib in c:\\users\\julie\\miniconda3\\envs\\m1_project\\lib\\site-packages (from scikit-survival) (1.1.1)\n",
      "Requirement already satisfied: numexpr in c:\\users\\julie\\miniconda3\\envs\\m1_project\\lib\\site-packages (from scikit-survival) (2.8.4)\n",
      "Collecting qdldl\n",
      "  Downloading qdldl-0.1.5.post3-cp39-cp39-win_amd64.whl (83 kB)\n",
      "     ---------------------------------------- 0.0/83.2 kB ? eta -:--:--\n",
      "     -------------- ------------------------- 30.7/83.2 kB 1.4 MB/s eta 0:00:01\n",
      "     ---------------------------- --------- 61.4/83.2 kB 825.8 kB/s eta 0:00:01\n",
      "     -------------------------------------- 83.2/83.2 kB 668.9 kB/s eta 0:00:00\n",
      "Requirement already satisfied: pytz>=2020.1 in c:\\users\\julie\\miniconda3\\envs\\m1_project\\lib\\site-packages (from pandas>=1.0.5->scikit-survival) (2022.7)\n",
      "Requirement already satisfied: python-dateutil>=2.8.1 in c:\\users\\julie\\miniconda3\\envs\\m1_project\\lib\\site-packages (from pandas>=1.0.5->scikit-survival) (2.8.2)\n",
      "Requirement already satisfied: threadpoolctl>=2.0.0 in c:\\users\\julie\\miniconda3\\envs\\m1_project\\lib\\site-packages (from scikit-learn<1.3,>=1.2.0->scikit-survival) (2.2.0)\n",
      "Requirement already satisfied: six>=1.5 in c:\\users\\julie\\miniconda3\\envs\\m1_project\\lib\\site-packages (from python-dateutil>=2.8.1->pandas>=1.0.5->scikit-survival) (1.16.0)\n",
      "Installing collected packages: qdldl, ecos, osqp, scikit-survival\n",
      "Successfully installed ecos-2.0.12 osqp-0.6.2.post8 qdldl-0.1.5.post3 scikit-survival-0.20.0\n"
     ]
    }
   ]
  },
  {
   "cell_type": "code",
   "source": [
    "# librairies\n",
    "import matplotlib.pyplot as plt\n",
    "import seaborn as sns\n",
    "import pandas as pd\n",
    "import numpy as np\n",
    "from lifelines import CoxPHFitter\n",
    "from lifelines.utils import concordance_index\n",
    "from sksurv.linear_model import CoxPHSurvivalAnalysis, CoxnetSurvivalAnalysis\n"
   ],
   "metadata": {
    "id": "i1NGW7ouOIRN"
   },
   "execution_count": 2,
   "outputs": []
  },
  {
   "cell_type": "code",
   "source": [
    "# Librairies Lasso\n",
    "from sklearn.preprocessing import StandardScaler\n",
    "from sklearn.pipeline import Pipeline\n",
    "from sklearn.model_selection import  GridSearchCV\n",
    "from sklearn.feature_selection import SelectFromModel\n",
    "from sklearn.linear_model import Lasso, LogisticRegression"
   ],
   "metadata": {
    "id": "8IDKCQsmPZs7"
   },
   "execution_count": 4,
   "outputs": []
  },
  {
   "cell_type": "code",
   "source": [
    "#Load Data\n",
    "data= pd.read_csv(\"features_with_clinical_data_KNN.csv\", delimiter= ',')\n",
    "data=data.drop(['patient_id', 'PFS'], axis=1)\n",
    "data.head(10)"
   ],
   "metadata": {
    "colab": {
     "base_uri": "https://localhost:8080/",
     "height": 473
    },
    "id": "crLUGA1YObKy",
    "outputId": "dd861c64-0b41-453b-e910-1c4ff026b386"
   },
   "execution_count": 6,
   "outputs": [
    {
     "data": {
      "text/plain": "   MYC IHC  BCL2 IHC  BCL6 IHC  CD10 IHC  MUM1 IHC  HANS  BCL6 FISH  MYC FISH  \\\n0      0.0      30.0       0.0       0.0       1.0   0.0        0.0       0.0   \n1     10.0       0.0      70.0       0.0       1.0   0.0        0.0       0.0   \n2      0.0      50.0       0.0       0.0       0.0   0.0        0.0       0.0   \n3     10.0      42.0      18.0       0.0       0.6   0.2        0.4       0.0   \n4      6.0      20.0      42.0       0.2       0.4   0.2        0.0       0.0   \n5      0.0      80.0       0.0       0.0       0.6   0.0        0.0       0.0   \n6      0.0      80.0       0.0       0.0       0.0   0.0        0.0       0.0   \n7      0.0      20.0      30.0       0.0       1.0   0.0        1.0       0.0   \n8     10.0      10.0      50.0       1.0       1.0   1.0        0.0       0.0   \n9     50.0       0.0      60.0       0.0       0.0   1.0        1.0       0.0   \n\n   BCL2 FISH   Age  ...      1015      1016      1017      1018      1019  \\\n0        0.0  61.0  ...  0.989375 -3.942934 -0.733295  4.967747  1.334263   \n1        0.0  24.0  ...  0.550286 -4.414318 -0.276240  4.564934 -0.723174   \n2        0.0  25.0  ...  2.067740 -3.714199 -0.387030  4.627776  1.488059   \n3        0.0  64.0  ...  0.584208 -3.478100  1.927194  4.956064  2.365260   \n4        0.0  41.0  ...  0.633456 -3.469962  1.479658  3.717409  1.480196   \n5        0.0  78.0  ...  1.221913 -4.361817  2.355842  5.300560  0.533461   \n6        0.0  62.0  ...  3.487181 -5.328841 -0.580664  6.214092  1.966028   \n7        0.0  62.0  ...  0.271314 -1.673310 -0.031450  3.288475  1.381165   \n8        0.0  54.0  ...  2.532299 -6.912847 -1.156980  8.052887  0.121927   \n9        0.0  65.0  ...  0.391128 -3.949425 -0.165909  4.055010  0.211571   \n\n       1020      1021      1022      1023    weight  \n0 -0.986458  2.388044 -1.648032 -0.589221  0.004299  \n1  1.763377  4.393436 -1.429609 -1.713000  0.006865  \n2 -0.337735  3.142957  0.683101 -1.692691  0.003299  \n3 -1.304836  5.289010 -0.652614 -0.085571  0.002033  \n4 -1.532882  0.858435 -1.163568 -0.669890  0.000833  \n5 -1.320051  1.984959 -0.853931 -0.846607  0.003632  \n6 -0.664566  2.138801  0.261990 -1.470663  0.007698  \n7 -1.919586  2.031429 -1.418477  0.359382  0.007465  \n8  2.348103  4.989056 -0.491396 -3.756457  0.003732  \n9  0.161041  3.747123 -1.198994 -1.020321  0.006665  \n\n[10 rows x 1045 columns]",
      "text/html": "<div>\n<style scoped>\n    .dataframe tbody tr th:only-of-type {\n        vertical-align: middle;\n    }\n\n    .dataframe tbody tr th {\n        vertical-align: top;\n    }\n\n    .dataframe thead th {\n        text-align: right;\n    }\n</style>\n<table border=\"1\" class=\"dataframe\">\n  <thead>\n    <tr style=\"text-align: right;\">\n      <th></th>\n      <th>MYC IHC</th>\n      <th>BCL2 IHC</th>\n      <th>BCL6 IHC</th>\n      <th>CD10 IHC</th>\n      <th>MUM1 IHC</th>\n      <th>HANS</th>\n      <th>BCL6 FISH</th>\n      <th>MYC FISH</th>\n      <th>BCL2 FISH</th>\n      <th>Age</th>\n      <th>...</th>\n      <th>1015</th>\n      <th>1016</th>\n      <th>1017</th>\n      <th>1018</th>\n      <th>1019</th>\n      <th>1020</th>\n      <th>1021</th>\n      <th>1022</th>\n      <th>1023</th>\n      <th>weight</th>\n    </tr>\n  </thead>\n  <tbody>\n    <tr>\n      <th>0</th>\n      <td>0.0</td>\n      <td>30.0</td>\n      <td>0.0</td>\n      <td>0.0</td>\n      <td>1.0</td>\n      <td>0.0</td>\n      <td>0.0</td>\n      <td>0.0</td>\n      <td>0.0</td>\n      <td>61.0</td>\n      <td>...</td>\n      <td>0.989375</td>\n      <td>-3.942934</td>\n      <td>-0.733295</td>\n      <td>4.967747</td>\n      <td>1.334263</td>\n      <td>-0.986458</td>\n      <td>2.388044</td>\n      <td>-1.648032</td>\n      <td>-0.589221</td>\n      <td>0.004299</td>\n    </tr>\n    <tr>\n      <th>1</th>\n      <td>10.0</td>\n      <td>0.0</td>\n      <td>70.0</td>\n      <td>0.0</td>\n      <td>1.0</td>\n      <td>0.0</td>\n      <td>0.0</td>\n      <td>0.0</td>\n      <td>0.0</td>\n      <td>24.0</td>\n      <td>...</td>\n      <td>0.550286</td>\n      <td>-4.414318</td>\n      <td>-0.276240</td>\n      <td>4.564934</td>\n      <td>-0.723174</td>\n      <td>1.763377</td>\n      <td>4.393436</td>\n      <td>-1.429609</td>\n      <td>-1.713000</td>\n      <td>0.006865</td>\n    </tr>\n    <tr>\n      <th>2</th>\n      <td>0.0</td>\n      <td>50.0</td>\n      <td>0.0</td>\n      <td>0.0</td>\n      <td>0.0</td>\n      <td>0.0</td>\n      <td>0.0</td>\n      <td>0.0</td>\n      <td>0.0</td>\n      <td>25.0</td>\n      <td>...</td>\n      <td>2.067740</td>\n      <td>-3.714199</td>\n      <td>-0.387030</td>\n      <td>4.627776</td>\n      <td>1.488059</td>\n      <td>-0.337735</td>\n      <td>3.142957</td>\n      <td>0.683101</td>\n      <td>-1.692691</td>\n      <td>0.003299</td>\n    </tr>\n    <tr>\n      <th>3</th>\n      <td>10.0</td>\n      <td>42.0</td>\n      <td>18.0</td>\n      <td>0.0</td>\n      <td>0.6</td>\n      <td>0.2</td>\n      <td>0.4</td>\n      <td>0.0</td>\n      <td>0.0</td>\n      <td>64.0</td>\n      <td>...</td>\n      <td>0.584208</td>\n      <td>-3.478100</td>\n      <td>1.927194</td>\n      <td>4.956064</td>\n      <td>2.365260</td>\n      <td>-1.304836</td>\n      <td>5.289010</td>\n      <td>-0.652614</td>\n      <td>-0.085571</td>\n      <td>0.002033</td>\n    </tr>\n    <tr>\n      <th>4</th>\n      <td>6.0</td>\n      <td>20.0</td>\n      <td>42.0</td>\n      <td>0.2</td>\n      <td>0.4</td>\n      <td>0.2</td>\n      <td>0.0</td>\n      <td>0.0</td>\n      <td>0.0</td>\n      <td>41.0</td>\n      <td>...</td>\n      <td>0.633456</td>\n      <td>-3.469962</td>\n      <td>1.479658</td>\n      <td>3.717409</td>\n      <td>1.480196</td>\n      <td>-1.532882</td>\n      <td>0.858435</td>\n      <td>-1.163568</td>\n      <td>-0.669890</td>\n      <td>0.000833</td>\n    </tr>\n    <tr>\n      <th>5</th>\n      <td>0.0</td>\n      <td>80.0</td>\n      <td>0.0</td>\n      <td>0.0</td>\n      <td>0.6</td>\n      <td>0.0</td>\n      <td>0.0</td>\n      <td>0.0</td>\n      <td>0.0</td>\n      <td>78.0</td>\n      <td>...</td>\n      <td>1.221913</td>\n      <td>-4.361817</td>\n      <td>2.355842</td>\n      <td>5.300560</td>\n      <td>0.533461</td>\n      <td>-1.320051</td>\n      <td>1.984959</td>\n      <td>-0.853931</td>\n      <td>-0.846607</td>\n      <td>0.003632</td>\n    </tr>\n    <tr>\n      <th>6</th>\n      <td>0.0</td>\n      <td>80.0</td>\n      <td>0.0</td>\n      <td>0.0</td>\n      <td>0.0</td>\n      <td>0.0</td>\n      <td>0.0</td>\n      <td>0.0</td>\n      <td>0.0</td>\n      <td>62.0</td>\n      <td>...</td>\n      <td>3.487181</td>\n      <td>-5.328841</td>\n      <td>-0.580664</td>\n      <td>6.214092</td>\n      <td>1.966028</td>\n      <td>-0.664566</td>\n      <td>2.138801</td>\n      <td>0.261990</td>\n      <td>-1.470663</td>\n      <td>0.007698</td>\n    </tr>\n    <tr>\n      <th>7</th>\n      <td>0.0</td>\n      <td>20.0</td>\n      <td>30.0</td>\n      <td>0.0</td>\n      <td>1.0</td>\n      <td>0.0</td>\n      <td>1.0</td>\n      <td>0.0</td>\n      <td>0.0</td>\n      <td>62.0</td>\n      <td>...</td>\n      <td>0.271314</td>\n      <td>-1.673310</td>\n      <td>-0.031450</td>\n      <td>3.288475</td>\n      <td>1.381165</td>\n      <td>-1.919586</td>\n      <td>2.031429</td>\n      <td>-1.418477</td>\n      <td>0.359382</td>\n      <td>0.007465</td>\n    </tr>\n    <tr>\n      <th>8</th>\n      <td>10.0</td>\n      <td>10.0</td>\n      <td>50.0</td>\n      <td>1.0</td>\n      <td>1.0</td>\n      <td>1.0</td>\n      <td>0.0</td>\n      <td>0.0</td>\n      <td>0.0</td>\n      <td>54.0</td>\n      <td>...</td>\n      <td>2.532299</td>\n      <td>-6.912847</td>\n      <td>-1.156980</td>\n      <td>8.052887</td>\n      <td>0.121927</td>\n      <td>2.348103</td>\n      <td>4.989056</td>\n      <td>-0.491396</td>\n      <td>-3.756457</td>\n      <td>0.003732</td>\n    </tr>\n    <tr>\n      <th>9</th>\n      <td>50.0</td>\n      <td>0.0</td>\n      <td>60.0</td>\n      <td>0.0</td>\n      <td>0.0</td>\n      <td>1.0</td>\n      <td>1.0</td>\n      <td>0.0</td>\n      <td>0.0</td>\n      <td>65.0</td>\n      <td>...</td>\n      <td>0.391128</td>\n      <td>-3.949425</td>\n      <td>-0.165909</td>\n      <td>4.055010</td>\n      <td>0.211571</td>\n      <td>0.161041</td>\n      <td>3.747123</td>\n      <td>-1.198994</td>\n      <td>-1.020321</td>\n      <td>0.006665</td>\n    </tr>\n  </tbody>\n</table>\n<p>10 rows × 1045 columns</p>\n</div>"
     },
     "execution_count": 6,
     "metadata": {},
     "output_type": "execute_result"
    }
   ]
  },
  {
   "cell_type": "code",
   "source": [
    "feat = data.columns\n",
    "feat"
   ],
   "metadata": {
    "colab": {
     "base_uri": "https://localhost:8080/"
    },
    "id": "MW26UHPLUyzF",
    "outputId": "e280d685-5c61-4f15-d098-59d128b3f8d6"
   },
   "execution_count": 20,
   "outputs": [
    {
     "data": {
      "text/plain": "Index(['MYC IHC', 'BCL2 IHC', 'BCL6 IHC', 'CD10 IHC', 'MUM1 IHC', 'HANS',\n       'BCL6 FISH', 'MYC FISH', 'BCL2 FISH', 'Age',\n       ...\n       '1015', '1016', '1017', '1018', '1019', '1020', '1021', '1022', '1023',\n       'weight'],\n      dtype='object', length=1045)"
     },
     "execution_count": 20,
     "metadata": {},
     "output_type": "execute_result"
    }
   ]
  },
  {
   "cell_type": "code",
   "source": [
    "#Mis à l'échelle\n",
    "pipeline = Pipeline([ \n",
    "                     ('scaler',StandardScaler()), \n",
    "                     ('model',Lasso()) \n",
    "])"
   ],
   "metadata": {
    "id": "ay7EpOjhPxF_"
   },
   "execution_count": 8,
   "outputs": []
  },
  {
   "cell_type": "code",
   "source": [
    "#Approche de validation croisée\n",
    "search = GridSearchCV(pipeline,\n",
    "                      {'model__alpha':np.arange(0.1,10,0.1)},\n",
    "                      cv = 5, scoring=\"neg_mean_squared_error\",verbose=3\n",
    "                      )"
   ],
   "metadata": {
    "id": "fqbAEJPiPw5k"
   },
   "execution_count": 9,
   "outputs": []
  },
  {
   "cell_type": "code",
   "source": [
    "from sklearn.datasets import load_diabetes\n",
    "X,y = load_diabetes(return_X_y=True)\n",
    "X[:10]"
   ],
   "metadata": {
    "colab": {
     "base_uri": "https://localhost:8080/"
    },
    "id": "2HeV4pFZRGZa",
    "outputId": "041f8c2f-8273-45f9-9da4-356ed59740b8"
   },
   "execution_count": null,
   "outputs": [
    {
     "output_type": "execute_result",
     "data": {
      "text/plain": [
       "array([[ 0.03807591,  0.05068012,  0.06169621,  0.02187239, -0.0442235 ,\n",
       "        -0.03482076, -0.04340085, -0.00259226,  0.01990749, -0.01764613],\n",
       "       [-0.00188202, -0.04464164, -0.05147406, -0.02632753, -0.00844872,\n",
       "        -0.01916334,  0.07441156, -0.03949338, -0.06833155, -0.09220405],\n",
       "       [ 0.08529891,  0.05068012,  0.04445121, -0.00567042, -0.04559945,\n",
       "        -0.03419447, -0.03235593, -0.00259226,  0.00286131, -0.02593034],\n",
       "       [-0.08906294, -0.04464164, -0.01159501, -0.03665608,  0.01219057,\n",
       "         0.02499059, -0.03603757,  0.03430886,  0.02268774, -0.00936191],\n",
       "       [ 0.00538306, -0.04464164, -0.03638469,  0.02187239,  0.00393485,\n",
       "         0.01559614,  0.00814208, -0.00259226, -0.03198764, -0.04664087],\n",
       "       [-0.09269548, -0.04464164, -0.04069594, -0.01944183, -0.06899065,\n",
       "        -0.07928784,  0.04127682, -0.0763945 , -0.04117617, -0.09634616],\n",
       "       [-0.04547248,  0.05068012, -0.04716281, -0.01599898, -0.04009564,\n",
       "        -0.02480001,  0.00077881, -0.03949338, -0.06291688, -0.03835666],\n",
       "       [ 0.06350368,  0.05068012, -0.00189471,  0.06662945,  0.09061988,\n",
       "         0.10891438,  0.02286863,  0.01770335, -0.03581619,  0.00306441],\n",
       "       [ 0.04170844,  0.05068012,  0.06169621, -0.04009893, -0.01395254,\n",
       "         0.00620169, -0.02867429, -0.00259226, -0.01495969,  0.01134862],\n",
       "       [-0.07090025, -0.04464164,  0.03906215, -0.03321323, -0.01257658,\n",
       "        -0.03450761, -0.02499266, -0.00259226,  0.06773705, -0.01350402]])"
      ]
     },
     "metadata": {},
     "execution_count": 9
    }
   ]
  },
  {
   "cell_type": "code",
   "source": [
    "# Séparer les données\n",
    "Y=data[['Follow-up Status','OS']]\n",
    "#Y=np.array(Y)\n",
    "X=data.drop(['Follow-up Status','OS'], axis=1)"
   ],
   "metadata": {
    "id": "sKbDqRpwR6GG"
   },
   "execution_count": 7,
   "outputs": []
  },
  {
   "cell_type": "code",
   "source": [
    "#Train the model\n",
    "search.fit(X,Y)"
   ],
   "metadata": {
    "id": "uLizfQhESrxW"
   },
   "execution_count": 10,
   "outputs": [
    {
     "name": "stdout",
     "output_type": "stream",
     "text": [
      "Fitting 5 folds for each of 99 candidates, totalling 495 fits\n",
      "[CV 1/5] END .................model__alpha=0.1;, score=-1.466 total time=   0.0s\n",
      "[CV 2/5] END .................model__alpha=0.1;, score=-2.826 total time=   0.0s\n",
      "[CV 3/5] END .................model__alpha=0.1;, score=-3.358 total time=   0.0s\n",
      "[CV 4/5] END .................model__alpha=0.1;, score=-1.983 total time=   0.0s\n",
      "[CV 5/5] END .................model__alpha=0.1;, score=-2.190 total time=   0.0s\n",
      "[CV 1/5] END .................model__alpha=0.2;, score=-1.506 total time=   0.0s\n",
      "[CV 2/5] END .................model__alpha=0.2;, score=-2.761 total time=   0.0s\n",
      "[CV 3/5] END .................model__alpha=0.2;, score=-2.977 total time=   0.0s\n",
      "[CV 4/5] END .................model__alpha=0.2;, score=-1.816 total time=   0.0s\n",
      "[CV 5/5] END .................model__alpha=0.2;, score=-1.844 total time=   0.0s\n",
      "[CV 1/5] END .model__alpha=0.30000000000000004;, score=-1.499 total time=   0.0s\n",
      "[CV 2/5] END .model__alpha=0.30000000000000004;, score=-2.648 total time=   0.0s\n",
      "[CV 3/5] END .model__alpha=0.30000000000000004;, score=-2.749 total time=   0.0s\n",
      "[CV 4/5] END .model__alpha=0.30000000000000004;, score=-1.727 total time=   0.0s\n",
      "[CV 5/5] END .model__alpha=0.30000000000000004;, score=-1.737 total time=   0.0s\n",
      "[CV 1/5] END .................model__alpha=0.4;, score=-1.568 total time=   0.0s\n",
      "[CV 2/5] END .................model__alpha=0.4;, score=-2.624 total time=   0.0s\n",
      "[CV 3/5] END .................model__alpha=0.4;, score=-2.615 total time=   0.0s\n",
      "[CV 4/5] END .................model__alpha=0.4;, score=-1.743 total time=   0.0s\n",
      "[CV 5/5] END .................model__alpha=0.4;, score=-1.748 total time=   0.0s\n",
      "[CV 1/5] END .................model__alpha=0.5;, score=-1.666 total time=   0.0s\n",
      "[CV 2/5] END .................model__alpha=0.5;, score=-2.668 total time=   0.0s\n",
      "[CV 3/5] END .................model__alpha=0.5;, score=-2.528 total time=   0.0s\n",
      "[CV 4/5] END .................model__alpha=0.5;, score=-1.831 total time=   0.0s\n",
      "[CV 5/5] END .................model__alpha=0.5;, score=-1.795 total time=   0.0s\n",
      "[CV 1/5] END .................model__alpha=0.6;, score=-1.762 total time=   0.0s\n",
      "[CV 2/5] END .................model__alpha=0.6;, score=-2.731 total time=   0.0s\n",
      "[CV 3/5] END .................model__alpha=0.6;, score=-2.492 total time=   0.0s\n",
      "[CV 4/5] END .................model__alpha=0.6;, score=-1.952 total time=   0.0s\n",
      "[CV 5/5] END .................model__alpha=0.6;, score=-1.821 total time=   0.0s\n",
      "[CV 1/5] END ..model__alpha=0.7000000000000001;, score=-1.870 total time=   0.0s\n",
      "[CV 2/5] END ..model__alpha=0.7000000000000001;, score=-2.807 total time=   0.0s\n",
      "[CV 3/5] END ..model__alpha=0.7000000000000001;, score=-2.521 total time=   0.0s\n",
      "[CV 4/5] END ..model__alpha=0.7000000000000001;, score=-2.083 total time=   0.0s\n",
      "[CV 5/5] END ..model__alpha=0.7000000000000001;, score=-1.856 total time=   0.0s\n",
      "[CV 1/5] END .................model__alpha=0.8;, score=-1.992 total time=   0.0s\n",
      "[CV 2/5] END .................model__alpha=0.8;, score=-2.896 total time=   0.0s\n",
      "[CV 3/5] END .................model__alpha=0.8;, score=-2.559 total time=   0.0s\n",
      "[CV 4/5] END .................model__alpha=0.8;, score=-2.225 total time=   0.0s\n",
      "[CV 5/5] END .................model__alpha=0.8;, score=-1.899 total time=   0.0s\n",
      "[CV 1/5] END .................model__alpha=0.9;, score=-2.128 total time=   0.0s\n",
      "[CV 2/5] END .................model__alpha=0.9;, score=-2.998 total time=   0.0s\n",
      "[CV 3/5] END .................model__alpha=0.9;, score=-2.605 total time=   0.0s\n",
      "[CV 4/5] END .................model__alpha=0.9;, score=-2.376 total time=   0.0s\n",
      "[CV 5/5] END .................model__alpha=0.9;, score=-1.951 total time=   0.0s\n",
      "[CV 1/5] END .................model__alpha=1.0;, score=-2.278 total time=   0.0s\n",
      "[CV 2/5] END .................model__alpha=1.0;, score=-3.113 total time=   0.0s\n",
      "[CV 3/5] END .................model__alpha=1.0;, score=-2.659 total time=   0.0s\n",
      "[CV 4/5] END .................model__alpha=1.0;, score=-2.537 total time=   0.0s\n",
      "[CV 5/5] END .................model__alpha=1.0;, score=-2.012 total time=   0.0s\n",
      "[CV 1/5] END .................model__alpha=1.1;, score=-2.442 total time=   0.0s\n",
      "[CV 2/5] END .................model__alpha=1.1;, score=-3.241 total time=   0.0s\n",
      "[CV 3/5] END .................model__alpha=1.1;, score=-2.723 total time=   0.0s\n",
      "[CV 4/5] END .................model__alpha=1.1;, score=-2.707 total time=   0.0s\n",
      "[CV 5/5] END .................model__alpha=1.1;, score=-2.081 total time=   0.0s\n",
      "[CV 1/5] END ..model__alpha=1.2000000000000002;, score=-2.620 total time=   0.0s\n",
      "[CV 2/5] END ..model__alpha=1.2000000000000002;, score=-3.382 total time=   0.0s\n",
      "[CV 3/5] END ..model__alpha=1.2000000000000002;, score=-2.794 total time=   0.0s\n",
      "[CV 4/5] END ..model__alpha=1.2000000000000002;, score=-2.887 total time=   0.0s\n",
      "[CV 5/5] END ..model__alpha=1.2000000000000002;, score=-2.158 total time=   0.0s\n",
      "[CV 1/5] END ..model__alpha=1.3000000000000003;, score=-2.812 total time=   0.0s\n",
      "[CV 2/5] END ..model__alpha=1.3000000000000003;, score=-3.537 total time=   0.0s\n",
      "[CV 3/5] END ..model__alpha=1.3000000000000003;, score=-2.875 total time=   0.0s\n",
      "[CV 4/5] END ..model__alpha=1.3000000000000003;, score=-3.077 total time=   0.0s\n",
      "[CV 5/5] END ..model__alpha=1.3000000000000003;, score=-2.244 total time=   0.0s\n",
      "[CV 1/5] END ..model__alpha=1.4000000000000001;, score=-3.017 total time=   0.0s\n",
      "[CV 2/5] END ..model__alpha=1.4000000000000001;, score=-3.704 total time=   0.0s\n",
      "[CV 3/5] END ..model__alpha=1.4000000000000001;, score=-2.964 total time=   0.0s\n",
      "[CV 4/5] END ..model__alpha=1.4000000000000001;, score=-3.277 total time=   0.0s\n",
      "[CV 5/5] END ..model__alpha=1.4000000000000001;, score=-2.338 total time=   0.0s\n",
      "[CV 1/5] END ..model__alpha=1.5000000000000002;, score=-3.237 total time=   0.0s\n",
      "[CV 2/5] END ..model__alpha=1.5000000000000002;, score=-3.884 total time=   0.0s\n",
      "[CV 3/5] END ..model__alpha=1.5000000000000002;, score=-3.061 total time=   0.0s\n",
      "[CV 4/5] END ..model__alpha=1.5000000000000002;, score=-3.486 total time=   0.0s\n",
      "[CV 5/5] END ..model__alpha=1.5000000000000002;, score=-2.441 total time=   0.0s\n",
      "[CV 1/5] END .................model__alpha=1.6;, score=-3.470 total time=   0.0s\n",
      "[CV 2/5] END .................model__alpha=1.6;, score=-4.077 total time=   0.0s\n",
      "[CV 3/5] END .................model__alpha=1.6;, score=-3.167 total time=   0.0s\n",
      "[CV 4/5] END .................model__alpha=1.6;, score=-3.705 total time=   0.0s\n",
      "[CV 5/5] END .................model__alpha=1.6;, score=-2.553 total time=   0.0s\n",
      "[CV 1/5] END ..model__alpha=1.7000000000000002;, score=-3.717 total time=   0.0s\n",
      "[CV 2/5] END ..model__alpha=1.7000000000000002;, score=-4.283 total time=   0.0s\n",
      "[CV 3/5] END ..model__alpha=1.7000000000000002;, score=-3.282 total time=   0.0s\n",
      "[CV 4/5] END ..model__alpha=1.7000000000000002;, score=-3.933 total time=   0.0s\n",
      "[CV 5/5] END ..model__alpha=1.7000000000000002;, score=-2.672 total time=   0.0s\n",
      "[CV 1/5] END ..model__alpha=1.8000000000000003;, score=-3.978 total time=   0.0s\n",
      "[CV 2/5] END ..model__alpha=1.8000000000000003;, score=-4.502 total time=   0.0s\n",
      "[CV 3/5] END ..model__alpha=1.8000000000000003;, score=-3.405 total time=   0.0s\n",
      "[CV 4/5] END ..model__alpha=1.8000000000000003;, score=-4.171 total time=   0.0s\n",
      "[CV 5/5] END ..model__alpha=1.8000000000000003;, score=-2.801 total time=   0.0s\n",
      "[CV 1/5] END ..model__alpha=1.9000000000000001;, score=-4.253 total time=   0.0s\n",
      "[CV 2/5] END ..model__alpha=1.9000000000000001;, score=-4.735 total time=   0.0s\n",
      "[CV 3/5] END ..model__alpha=1.9000000000000001;, score=-3.537 total time=   0.0s\n",
      "[CV 4/5] END ..model__alpha=1.9000000000000001;, score=-4.419 total time=   0.0s\n",
      "[CV 5/5] END ..model__alpha=1.9000000000000001;, score=-2.938 total time=   0.0s\n",
      "[CV 1/5] END .................model__alpha=2.0;, score=-4.542 total time=   0.0s\n",
      "[CV 2/5] END .................model__alpha=2.0;, score=-4.980 total time=   0.0s\n",
      "[CV 3/5] END .................model__alpha=2.0;, score=-3.677 total time=   0.0s\n",
      "[CV 4/5] END .................model__alpha=2.0;, score=-4.677 total time=   0.0s\n",
      "[CV 5/5] END .................model__alpha=2.0;, score=-3.083 total time=   0.0s\n",
      "[CV 1/5] END .................model__alpha=2.1;, score=-4.845 total time=   0.0s\n",
      "[CV 2/5] END .................model__alpha=2.1;, score=-5.238 total time=   0.0s\n",
      "[CV 3/5] END .................model__alpha=2.1;, score=-3.826 total time=   0.0s\n",
      "[CV 4/5] END .................model__alpha=2.1;, score=-4.944 total time=   0.0s\n",
      "[CV 5/5] END .................model__alpha=2.1;, score=-3.237 total time=   0.0s\n",
      "[CV 1/5] END .................model__alpha=2.2;, score=-5.162 total time=   0.0s\n",
      "[CV 2/5] END .................model__alpha=2.2;, score=-5.510 total time=   0.0s\n",
      "[CV 3/5] END .................model__alpha=2.2;, score=-3.984 total time=   0.0s\n",
      "[CV 4/5] END .................model__alpha=2.2;, score=-5.221 total time=   0.0s\n",
      "[CV 5/5] END .................model__alpha=2.2;, score=-3.399 total time=   0.0s\n",
      "[CV 1/5] END ..model__alpha=2.3000000000000003;, score=-5.492 total time=   0.0s\n",
      "[CV 2/5] END ..model__alpha=2.3000000000000003;, score=-5.794 total time=   0.0s\n",
      "[CV 3/5] END ..model__alpha=2.3000000000000003;, score=-4.150 total time=   0.0s\n",
      "[CV 4/5] END ..model__alpha=2.3000000000000003;, score=-5.508 total time=   0.0s\n",
      "[CV 5/5] END ..model__alpha=2.3000000000000003;, score=-3.570 total time=   0.0s\n",
      "[CV 1/5] END ..model__alpha=2.4000000000000004;, score=-5.836 total time=   0.0s\n",
      "[CV 2/5] END ..model__alpha=2.4000000000000004;, score=-6.091 total time=   0.0s\n",
      "[CV 3/5] END ..model__alpha=2.4000000000000004;, score=-4.325 total time=   0.0s\n",
      "[CV 4/5] END ..model__alpha=2.4000000000000004;, score=-5.804 total time=   0.0s\n",
      "[CV 5/5] END ..model__alpha=2.4000000000000004;, score=-3.750 total time=   0.0s\n",
      "[CV 1/5] END ..model__alpha=2.5000000000000004;, score=-6.195 total time=   0.0s\n",
      "[CV 2/5] END ..model__alpha=2.5000000000000004;, score=-6.402 total time=   0.0s\n",
      "[CV 3/5] END ..model__alpha=2.5000000000000004;, score=-4.508 total time=   0.0s\n",
      "[CV 4/5] END ..model__alpha=2.5000000000000004;, score=-6.110 total time=   0.0s\n",
      "[CV 5/5] END ..model__alpha=2.5000000000000004;, score=-3.938 total time=   0.0s\n",
      "[CV 1/5] END .................model__alpha=2.6;, score=-6.567 total time=   0.0s\n",
      "[CV 2/5] END .................model__alpha=2.6;, score=-6.725 total time=   0.0s\n",
      "[CV 3/5] END .................model__alpha=2.6;, score=-4.700 total time=   0.0s\n",
      "[CV 4/5] END .................model__alpha=2.6;, score=-6.426 total time=   0.0s\n",
      "[CV 5/5] END .................model__alpha=2.6;, score=-4.134 total time=   0.0s\n",
      "[CV 1/5] END .................model__alpha=2.7;, score=-6.953 total time=   0.0s\n",
      "[CV 2/5] END .................model__alpha=2.7;, score=-7.061 total time=   0.0s\n",
      "[CV 3/5] END .................model__alpha=2.7;, score=-4.900 total time=   0.0s\n",
      "[CV 4/5] END .................model__alpha=2.7;, score=-6.751 total time=   0.0s\n",
      "[CV 5/5] END .................model__alpha=2.7;, score=-4.339 total time=   0.0s\n",
      "[CV 1/5] END ..model__alpha=2.8000000000000003;, score=-6.988 total time=   0.0s\n",
      "[CV 2/5] END ..model__alpha=2.8000000000000003;, score=-7.411 total time=   0.0s\n",
      "[CV 3/5] END ..model__alpha=2.8000000000000003;, score=-5.109 total time=   0.0s\n",
      "[CV 4/5] END ..model__alpha=2.8000000000000003;, score=-6.806 total time=   0.0s\n",
      "[CV 5/5] END ..model__alpha=2.8000000000000003;, score=-4.552 total time=   0.0s\n",
      "[CV 1/5] END ..model__alpha=2.9000000000000004;, score=-6.988 total time=   0.0s\n",
      "[CV 2/5] END ..model__alpha=2.9000000000000004;, score=-7.450 total time=   0.0s\n",
      "[CV 3/5] END ..model__alpha=2.9000000000000004;, score=-5.327 total time=   0.0s\n",
      "[CV 4/5] END ..model__alpha=2.9000000000000004;, score=-6.806 total time=   0.0s\n",
      "[CV 5/5] END ..model__alpha=2.9000000000000004;, score=-4.774 total time=   0.0s\n",
      "[CV 1/5] END ..model__alpha=3.0000000000000004;, score=-6.988 total time=   0.0s\n",
      "[CV 2/5] END ..model__alpha=3.0000000000000004;, score=-7.450 total time=   0.0s\n",
      "[CV 3/5] END ..model__alpha=3.0000000000000004;, score=-5.417 total time=   0.0s\n",
      "[CV 4/5] END ..model__alpha=3.0000000000000004;, score=-6.806 total time=   0.0s\n",
      "[CV 5/5] END ..model__alpha=3.0000000000000004;, score=-4.918 total time=   0.0s\n",
      "[CV 1/5] END .................model__alpha=3.1;, score=-6.988 total time=   0.0s\n",
      "[CV 2/5] END .................model__alpha=3.1;, score=-7.450 total time=   0.0s\n",
      "[CV 3/5] END .................model__alpha=3.1;, score=-5.417 total time=   0.0s\n",
      "[CV 4/5] END .................model__alpha=3.1;, score=-6.806 total time=   0.0s\n",
      "[CV 5/5] END .................model__alpha=3.1;, score=-4.918 total time=   0.0s\n",
      "[CV 1/5] END .................model__alpha=3.2;, score=-6.988 total time=   0.0s\n",
      "[CV 2/5] END .................model__alpha=3.2;, score=-7.450 total time=   0.0s\n",
      "[CV 3/5] END .................model__alpha=3.2;, score=-5.417 total time=   0.0s\n",
      "[CV 4/5] END .................model__alpha=3.2;, score=-6.806 total time=   0.0s\n",
      "[CV 5/5] END .................model__alpha=3.2;, score=-4.918 total time=   0.0s\n",
      "[CV 1/5] END ..model__alpha=3.3000000000000003;, score=-6.988 total time=   0.0s\n",
      "[CV 2/5] END ..model__alpha=3.3000000000000003;, score=-7.450 total time=   0.0s\n",
      "[CV 3/5] END ..model__alpha=3.3000000000000003;, score=-5.417 total time=   0.0s\n",
      "[CV 4/5] END ..model__alpha=3.3000000000000003;, score=-6.806 total time=   0.0s\n",
      "[CV 5/5] END ..model__alpha=3.3000000000000003;, score=-4.918 total time=   0.0s\n",
      "[CV 1/5] END ..model__alpha=3.4000000000000004;, score=-6.988 total time=   0.0s\n",
      "[CV 2/5] END ..model__alpha=3.4000000000000004;, score=-7.450 total time=   0.0s\n",
      "[CV 3/5] END ..model__alpha=3.4000000000000004;, score=-5.417 total time=   0.0s\n",
      "[CV 4/5] END ..model__alpha=3.4000000000000004;, score=-6.806 total time=   0.0s\n",
      "[CV 5/5] END ..model__alpha=3.4000000000000004;, score=-4.918 total time=   0.0s\n",
      "[CV 1/5] END ..model__alpha=3.5000000000000004;, score=-6.988 total time=   0.0s\n",
      "[CV 2/5] END ..model__alpha=3.5000000000000004;, score=-7.450 total time=   0.0s\n",
      "[CV 3/5] END ..model__alpha=3.5000000000000004;, score=-5.417 total time=   0.0s\n",
      "[CV 4/5] END ..model__alpha=3.5000000000000004;, score=-6.806 total time=   0.0s\n",
      "[CV 5/5] END ..model__alpha=3.5000000000000004;, score=-4.918 total time=   0.0s\n",
      "[CV 1/5] END .................model__alpha=3.6;, score=-6.988 total time=   0.0s\n",
      "[CV 2/5] END .................model__alpha=3.6;, score=-7.450 total time=   0.0s\n",
      "[CV 3/5] END .................model__alpha=3.6;, score=-5.417 total time=   0.0s\n",
      "[CV 4/5] END .................model__alpha=3.6;, score=-6.806 total time=   0.0s\n",
      "[CV 5/5] END .................model__alpha=3.6;, score=-4.918 total time=   0.0s\n",
      "[CV 1/5] END .................model__alpha=3.7;, score=-6.988 total time=   0.0s\n",
      "[CV 2/5] END .................model__alpha=3.7;, score=-7.450 total time=   0.0s\n",
      "[CV 3/5] END .................model__alpha=3.7;, score=-5.417 total time=   0.0s\n",
      "[CV 4/5] END .................model__alpha=3.7;, score=-6.806 total time=   0.0s\n",
      "[CV 5/5] END .................model__alpha=3.7;, score=-4.918 total time=   0.0s\n",
      "[CV 1/5] END ..model__alpha=3.8000000000000003;, score=-6.988 total time=   0.0s\n",
      "[CV 2/5] END ..model__alpha=3.8000000000000003;, score=-7.450 total time=   0.0s\n",
      "[CV 3/5] END ..model__alpha=3.8000000000000003;, score=-5.417 total time=   0.0s\n",
      "[CV 4/5] END ..model__alpha=3.8000000000000003;, score=-6.806 total time=   0.0s\n",
      "[CV 5/5] END ..model__alpha=3.8000000000000003;, score=-4.918 total time=   0.0s\n",
      "[CV 1/5] END ..model__alpha=3.9000000000000004;, score=-6.988 total time=   0.0s\n",
      "[CV 2/5] END ..model__alpha=3.9000000000000004;, score=-7.450 total time=   0.0s\n",
      "[CV 3/5] END ..model__alpha=3.9000000000000004;, score=-5.417 total time=   0.0s\n",
      "[CV 4/5] END ..model__alpha=3.9000000000000004;, score=-6.806 total time=   0.0s\n",
      "[CV 5/5] END ..model__alpha=3.9000000000000004;, score=-4.918 total time=   0.0s\n",
      "[CV 1/5] END .................model__alpha=4.0;, score=-6.988 total time=   0.0s\n",
      "[CV 2/5] END .................model__alpha=4.0;, score=-7.450 total time=   0.0s\n",
      "[CV 3/5] END .................model__alpha=4.0;, score=-5.417 total time=   0.0s\n",
      "[CV 4/5] END .................model__alpha=4.0;, score=-6.806 total time=   0.0s\n",
      "[CV 5/5] END .................model__alpha=4.0;, score=-4.918 total time=   0.0s\n",
      "[CV 1/5] END .................model__alpha=4.1;, score=-6.988 total time=   0.0s\n",
      "[CV 2/5] END .................model__alpha=4.1;, score=-7.450 total time=   0.0s\n",
      "[CV 3/5] END .................model__alpha=4.1;, score=-5.417 total time=   0.0s\n",
      "[CV 4/5] END .................model__alpha=4.1;, score=-6.806 total time=   0.0s\n",
      "[CV 5/5] END .................model__alpha=4.1;, score=-4.918 total time=   0.0s\n",
      "[CV 1/5] END .................model__alpha=4.2;, score=-6.988 total time=   0.0s\n",
      "[CV 2/5] END .................model__alpha=4.2;, score=-7.450 total time=   0.0s\n",
      "[CV 3/5] END .................model__alpha=4.2;, score=-5.417 total time=   0.0s\n",
      "[CV 4/5] END .................model__alpha=4.2;, score=-6.806 total time=   0.0s\n",
      "[CV 5/5] END .................model__alpha=4.2;, score=-4.918 total time=   0.0s\n",
      "[CV 1/5] END .................model__alpha=4.3;, score=-6.988 total time=   0.0s\n",
      "[CV 2/5] END .................model__alpha=4.3;, score=-7.450 total time=   0.0s\n",
      "[CV 3/5] END .................model__alpha=4.3;, score=-5.417 total time=   0.0s\n",
      "[CV 4/5] END .................model__alpha=4.3;, score=-6.806 total time=   0.0s\n",
      "[CV 5/5] END .................model__alpha=4.3;, score=-4.918 total time=   0.0s\n",
      "[CV 1/5] END ..model__alpha=4.3999999999999995;, score=-6.988 total time=   0.0s\n",
      "[CV 2/5] END ..model__alpha=4.3999999999999995;, score=-7.450 total time=   0.0s\n",
      "[CV 3/5] END ..model__alpha=4.3999999999999995;, score=-5.417 total time=   0.0s\n",
      "[CV 4/5] END ..model__alpha=4.3999999999999995;, score=-6.806 total time=   0.0s\n",
      "[CV 5/5] END ..model__alpha=4.3999999999999995;, score=-4.918 total time=   0.0s\n",
      "[CV 1/5] END .................model__alpha=4.5;, score=-6.988 total time=   0.0s\n",
      "[CV 2/5] END .................model__alpha=4.5;, score=-7.450 total time=   0.0s\n",
      "[CV 3/5] END .................model__alpha=4.5;, score=-5.417 total time=   0.0s\n",
      "[CV 4/5] END .................model__alpha=4.5;, score=-6.806 total time=   0.0s\n",
      "[CV 5/5] END .................model__alpha=4.5;, score=-4.918 total time=   0.0s\n",
      "[CV 1/5] END .................model__alpha=4.6;, score=-6.988 total time=   0.0s\n",
      "[CV 2/5] END .................model__alpha=4.6;, score=-7.450 total time=   0.0s\n",
      "[CV 3/5] END .................model__alpha=4.6;, score=-5.417 total time=   0.0s\n",
      "[CV 4/5] END .................model__alpha=4.6;, score=-6.806 total time=   0.0s\n",
      "[CV 5/5] END .................model__alpha=4.6;, score=-4.918 total time=   0.0s\n",
      "[CV 1/5] END .................model__alpha=4.7;, score=-6.988 total time=   0.0s\n",
      "[CV 2/5] END .................model__alpha=4.7;, score=-7.450 total time=   0.0s\n",
      "[CV 3/5] END .................model__alpha=4.7;, score=-5.417 total time=   0.0s\n",
      "[CV 4/5] END .................model__alpha=4.7;, score=-6.806 total time=   0.0s\n",
      "[CV 5/5] END .................model__alpha=4.7;, score=-4.918 total time=   0.0s\n",
      "[CV 1/5] END .................model__alpha=4.8;, score=-6.988 total time=   0.0s\n",
      "[CV 2/5] END .................model__alpha=4.8;, score=-7.450 total time=   0.0s\n",
      "[CV 3/5] END .................model__alpha=4.8;, score=-5.417 total time=   0.0s\n",
      "[CV 4/5] END .................model__alpha=4.8;, score=-6.806 total time=   0.0s\n",
      "[CV 5/5] END .................model__alpha=4.8;, score=-4.918 total time=   0.0s\n",
      "[CV 1/5] END .................model__alpha=4.9;, score=-6.988 total time=   0.0s\n",
      "[CV 2/5] END .................model__alpha=4.9;, score=-7.450 total time=   0.0s\n",
      "[CV 3/5] END .................model__alpha=4.9;, score=-5.417 total time=   0.0s\n",
      "[CV 4/5] END .................model__alpha=4.9;, score=-6.806 total time=   0.0s\n",
      "[CV 5/5] END .................model__alpha=4.9;, score=-4.918 total time=   0.0s\n",
      "[CV 1/5] END .................model__alpha=5.0;, score=-6.988 total time=   0.0s\n",
      "[CV 2/5] END .................model__alpha=5.0;, score=-7.450 total time=   0.0s\n",
      "[CV 3/5] END .................model__alpha=5.0;, score=-5.417 total time=   0.0s\n",
      "[CV 4/5] END .................model__alpha=5.0;, score=-6.806 total time=   0.0s\n",
      "[CV 5/5] END .................model__alpha=5.0;, score=-4.918 total time=   0.0s\n",
      "[CV 1/5] END .................model__alpha=5.1;, score=-6.988 total time=   0.0s\n",
      "[CV 2/5] END .................model__alpha=5.1;, score=-7.450 total time=   0.0s\n",
      "[CV 3/5] END .................model__alpha=5.1;, score=-5.417 total time=   0.0s\n",
      "[CV 4/5] END .................model__alpha=5.1;, score=-6.806 total time=   0.0s\n",
      "[CV 5/5] END .................model__alpha=5.1;, score=-4.918 total time=   0.0s\n",
      "[CV 1/5] END .................model__alpha=5.2;, score=-6.988 total time=   0.0s\n",
      "[CV 2/5] END .................model__alpha=5.2;, score=-7.450 total time=   0.0s\n",
      "[CV 3/5] END .................model__alpha=5.2;, score=-5.417 total time=   0.0s\n",
      "[CV 4/5] END .................model__alpha=5.2;, score=-6.806 total time=   0.0s\n",
      "[CV 5/5] END .................model__alpha=5.2;, score=-4.918 total time=   0.0s\n",
      "[CV 1/5] END .................model__alpha=5.3;, score=-6.988 total time=   0.0s\n",
      "[CV 2/5] END .................model__alpha=5.3;, score=-7.450 total time=   0.0s\n",
      "[CV 3/5] END .................model__alpha=5.3;, score=-5.417 total time=   0.0s\n",
      "[CV 4/5] END .................model__alpha=5.3;, score=-6.806 total time=   0.0s\n",
      "[CV 5/5] END .................model__alpha=5.3;, score=-4.918 total time=   0.0s\n",
      "[CV 1/5] END .................model__alpha=5.4;, score=-6.988 total time=   0.0s\n",
      "[CV 2/5] END .................model__alpha=5.4;, score=-7.450 total time=   0.0s\n",
      "[CV 3/5] END .................model__alpha=5.4;, score=-5.417 total time=   0.0s\n",
      "[CV 4/5] END .................model__alpha=5.4;, score=-6.806 total time=   0.0s\n",
      "[CV 5/5] END .................model__alpha=5.4;, score=-4.918 total time=   0.0s\n",
      "[CV 1/5] END .................model__alpha=5.5;, score=-6.988 total time=   0.0s\n",
      "[CV 2/5] END .................model__alpha=5.5;, score=-7.450 total time=   0.0s\n",
      "[CV 3/5] END .................model__alpha=5.5;, score=-5.417 total time=   0.0s\n",
      "[CV 4/5] END .................model__alpha=5.5;, score=-6.806 total time=   0.0s\n",
      "[CV 5/5] END .................model__alpha=5.5;, score=-4.918 total time=   0.0s\n",
      "[CV 1/5] END .................model__alpha=5.6;, score=-6.988 total time=   0.0s\n",
      "[CV 2/5] END .................model__alpha=5.6;, score=-7.450 total time=   0.0s\n",
      "[CV 3/5] END .................model__alpha=5.6;, score=-5.417 total time=   0.0s\n",
      "[CV 4/5] END .................model__alpha=5.6;, score=-6.806 total time=   0.0s\n",
      "[CV 5/5] END .................model__alpha=5.6;, score=-4.918 total time=   0.0s\n",
      "[CV 1/5] END .................model__alpha=5.7;, score=-6.988 total time=   0.0s\n",
      "[CV 2/5] END .................model__alpha=5.7;, score=-7.450 total time=   0.0s\n",
      "[CV 3/5] END .................model__alpha=5.7;, score=-5.417 total time=   0.0s\n",
      "[CV 4/5] END .................model__alpha=5.7;, score=-6.806 total time=   0.0s\n",
      "[CV 5/5] END .................model__alpha=5.7;, score=-4.918 total time=   0.0s\n",
      "[CV 1/5] END .................model__alpha=5.8;, score=-6.988 total time=   0.0s\n",
      "[CV 2/5] END .................model__alpha=5.8;, score=-7.450 total time=   0.0s\n",
      "[CV 3/5] END .................model__alpha=5.8;, score=-5.417 total time=   0.0s\n",
      "[CV 4/5] END .................model__alpha=5.8;, score=-6.806 total time=   0.0s\n",
      "[CV 5/5] END .................model__alpha=5.8;, score=-4.918 total time=   0.0s\n",
      "[CV 1/5] END .................model__alpha=5.9;, score=-6.988 total time=   0.0s\n",
      "[CV 2/5] END .................model__alpha=5.9;, score=-7.450 total time=   0.0s\n",
      "[CV 3/5] END .................model__alpha=5.9;, score=-5.417 total time=   0.0s\n",
      "[CV 4/5] END .................model__alpha=5.9;, score=-6.806 total time=   0.0s\n",
      "[CV 5/5] END .................model__alpha=5.9;, score=-4.918 total time=   0.0s\n",
      "[CV 1/5] END .................model__alpha=6.0;, score=-6.988 total time=   0.0s\n",
      "[CV 2/5] END .................model__alpha=6.0;, score=-7.450 total time=   0.0s\n",
      "[CV 3/5] END .................model__alpha=6.0;, score=-5.417 total time=   0.0s\n",
      "[CV 4/5] END .................model__alpha=6.0;, score=-6.806 total time=   0.0s\n",
      "[CV 5/5] END .................model__alpha=6.0;, score=-4.918 total time=   0.0s\n",
      "[CV 1/5] END .................model__alpha=6.1;, score=-6.988 total time=   0.0s\n",
      "[CV 2/5] END .................model__alpha=6.1;, score=-7.450 total time=   0.0s\n",
      "[CV 3/5] END .................model__alpha=6.1;, score=-5.417 total time=   0.0s\n",
      "[CV 4/5] END .................model__alpha=6.1;, score=-6.806 total time=   0.0s\n",
      "[CV 5/5] END .................model__alpha=6.1;, score=-4.918 total time=   0.0s\n",
      "[CV 1/5] END .................model__alpha=6.2;, score=-6.988 total time=   0.0s\n",
      "[CV 2/5] END .................model__alpha=6.2;, score=-7.450 total time=   0.0s\n",
      "[CV 3/5] END .................model__alpha=6.2;, score=-5.417 total time=   0.0s\n",
      "[CV 4/5] END .................model__alpha=6.2;, score=-6.806 total time=   0.0s\n",
      "[CV 5/5] END .................model__alpha=6.2;, score=-4.918 total time=   0.0s\n",
      "[CV 1/5] END .................model__alpha=6.3;, score=-6.988 total time=   0.0s\n",
      "[CV 2/5] END .................model__alpha=6.3;, score=-7.450 total time=   0.0s\n",
      "[CV 3/5] END .................model__alpha=6.3;, score=-5.417 total time=   0.0s\n",
      "[CV 4/5] END .................model__alpha=6.3;, score=-6.806 total time=   0.0s\n",
      "[CV 5/5] END .................model__alpha=6.3;, score=-4.918 total time=   0.0s\n",
      "[CV 1/5] END .................model__alpha=6.4;, score=-6.988 total time=   0.0s\n",
      "[CV 2/5] END .................model__alpha=6.4;, score=-7.450 total time=   0.0s\n",
      "[CV 3/5] END .................model__alpha=6.4;, score=-5.417 total time=   0.0s\n",
      "[CV 4/5] END .................model__alpha=6.4;, score=-6.806 total time=   0.0s\n",
      "[CV 5/5] END .................model__alpha=6.4;, score=-4.918 total time=   0.0s\n",
      "[CV 1/5] END .................model__alpha=6.5;, score=-6.988 total time=   0.0s\n",
      "[CV 2/5] END .................model__alpha=6.5;, score=-7.450 total time=   0.0s\n",
      "[CV 3/5] END .................model__alpha=6.5;, score=-5.417 total time=   0.0s\n",
      "[CV 4/5] END .................model__alpha=6.5;, score=-6.806 total time=   0.0s\n",
      "[CV 5/5] END .................model__alpha=6.5;, score=-4.918 total time=   0.0s\n",
      "[CV 1/5] END .................model__alpha=6.6;, score=-6.988 total time=   0.0s\n",
      "[CV 2/5] END .................model__alpha=6.6;, score=-7.450 total time=   0.0s\n",
      "[CV 3/5] END .................model__alpha=6.6;, score=-5.417 total time=   0.0s\n",
      "[CV 4/5] END .................model__alpha=6.6;, score=-6.806 total time=   0.0s\n",
      "[CV 5/5] END .................model__alpha=6.6;, score=-4.918 total time=   0.0s\n",
      "[CV 1/5] END .................model__alpha=6.7;, score=-6.988 total time=   0.0s\n",
      "[CV 2/5] END .................model__alpha=6.7;, score=-7.450 total time=   0.0s\n",
      "[CV 3/5] END .................model__alpha=6.7;, score=-5.417 total time=   0.0s\n",
      "[CV 4/5] END .................model__alpha=6.7;, score=-6.806 total time=   0.0s\n",
      "[CV 5/5] END .................model__alpha=6.7;, score=-4.918 total time=   0.0s\n",
      "[CV 1/5] END .................model__alpha=6.8;, score=-6.988 total time=   0.0s\n",
      "[CV 2/5] END .................model__alpha=6.8;, score=-7.450 total time=   0.0s\n",
      "[CV 3/5] END .................model__alpha=6.8;, score=-5.417 total time=   0.0s\n",
      "[CV 4/5] END .................model__alpha=6.8;, score=-6.806 total time=   0.0s\n",
      "[CV 5/5] END .................model__alpha=6.8;, score=-4.918 total time=   0.0s\n",
      "[CV 1/5] END .................model__alpha=6.9;, score=-6.988 total time=   0.0s\n",
      "[CV 2/5] END .................model__alpha=6.9;, score=-7.450 total time=   0.0s\n",
      "[CV 3/5] END .................model__alpha=6.9;, score=-5.417 total time=   0.0s\n",
      "[CV 4/5] END .................model__alpha=6.9;, score=-6.806 total time=   0.0s\n",
      "[CV 5/5] END .................model__alpha=6.9;, score=-4.918 total time=   0.0s\n",
      "[CV 1/5] END .................model__alpha=7.0;, score=-6.988 total time=   0.0s\n",
      "[CV 2/5] END .................model__alpha=7.0;, score=-7.450 total time=   0.0s\n",
      "[CV 3/5] END .................model__alpha=7.0;, score=-5.417 total time=   0.0s\n",
      "[CV 4/5] END .................model__alpha=7.0;, score=-6.806 total time=   0.0s\n",
      "[CV 5/5] END .................model__alpha=7.0;, score=-4.918 total time=   0.0s\n",
      "[CV 1/5] END .................model__alpha=7.1;, score=-6.988 total time=   0.0s\n",
      "[CV 2/5] END .................model__alpha=7.1;, score=-7.450 total time=   0.0s\n",
      "[CV 3/5] END .................model__alpha=7.1;, score=-5.417 total time=   0.0s\n",
      "[CV 4/5] END .................model__alpha=7.1;, score=-6.806 total time=   0.0s\n",
      "[CV 5/5] END .................model__alpha=7.1;, score=-4.918 total time=   0.0s\n",
      "[CV 1/5] END .................model__alpha=7.2;, score=-6.988 total time=   0.0s\n",
      "[CV 2/5] END .................model__alpha=7.2;, score=-7.450 total time=   0.0s\n",
      "[CV 3/5] END .................model__alpha=7.2;, score=-5.417 total time=   0.0s\n",
      "[CV 4/5] END .................model__alpha=7.2;, score=-6.806 total time=   0.0s\n",
      "[CV 5/5] END .................model__alpha=7.2;, score=-4.918 total time=   0.0s\n",
      "[CV 1/5] END .................model__alpha=7.3;, score=-6.988 total time=   0.0s\n",
      "[CV 2/5] END .................model__alpha=7.3;, score=-7.450 total time=   0.0s\n",
      "[CV 3/5] END .................model__alpha=7.3;, score=-5.417 total time=   0.0s\n",
      "[CV 4/5] END .................model__alpha=7.3;, score=-6.806 total time=   0.0s\n",
      "[CV 5/5] END .................model__alpha=7.3;, score=-4.918 total time=   0.0s\n",
      "[CV 1/5] END .................model__alpha=7.4;, score=-6.988 total time=   0.0s\n",
      "[CV 2/5] END .................model__alpha=7.4;, score=-7.450 total time=   0.0s\n",
      "[CV 3/5] END .................model__alpha=7.4;, score=-5.417 total time=   0.0s\n",
      "[CV 4/5] END .................model__alpha=7.4;, score=-6.806 total time=   0.0s\n",
      "[CV 5/5] END .................model__alpha=7.4;, score=-4.918 total time=   0.0s\n",
      "[CV 1/5] END .................model__alpha=7.5;, score=-6.988 total time=   0.0s\n",
      "[CV 2/5] END .................model__alpha=7.5;, score=-7.450 total time=   0.0s\n",
      "[CV 3/5] END .................model__alpha=7.5;, score=-5.417 total time=   0.0s\n",
      "[CV 4/5] END .................model__alpha=7.5;, score=-6.806 total time=   0.0s\n",
      "[CV 5/5] END .................model__alpha=7.5;, score=-4.918 total time=   0.0s\n",
      "[CV 1/5] END .................model__alpha=7.6;, score=-6.988 total time=   0.0s\n",
      "[CV 2/5] END .................model__alpha=7.6;, score=-7.450 total time=   0.0s\n",
      "[CV 3/5] END .................model__alpha=7.6;, score=-5.417 total time=   0.0s\n",
      "[CV 4/5] END .................model__alpha=7.6;, score=-6.806 total time=   0.0s\n",
      "[CV 5/5] END .................model__alpha=7.6;, score=-4.918 total time=   0.0s\n",
      "[CV 1/5] END .................model__alpha=7.7;, score=-6.988 total time=   0.0s\n",
      "[CV 2/5] END .................model__alpha=7.7;, score=-7.450 total time=   0.0s\n",
      "[CV 3/5] END .................model__alpha=7.7;, score=-5.417 total time=   0.0s\n",
      "[CV 4/5] END .................model__alpha=7.7;, score=-6.806 total time=   0.0s\n",
      "[CV 5/5] END .................model__alpha=7.7;, score=-4.918 total time=   0.0s\n",
      "[CV 1/5] END .................model__alpha=7.8;, score=-6.988 total time=   0.0s\n",
      "[CV 2/5] END .................model__alpha=7.8;, score=-7.450 total time=   0.0s\n",
      "[CV 3/5] END .................model__alpha=7.8;, score=-5.417 total time=   0.0s\n",
      "[CV 4/5] END .................model__alpha=7.8;, score=-6.806 total time=   0.0s\n",
      "[CV 5/5] END .................model__alpha=7.8;, score=-4.918 total time=   0.0s\n",
      "[CV 1/5] END .................model__alpha=7.9;, score=-6.988 total time=   0.0s\n",
      "[CV 2/5] END .................model__alpha=7.9;, score=-7.450 total time=   0.0s\n",
      "[CV 3/5] END .................model__alpha=7.9;, score=-5.417 total time=   0.0s\n",
      "[CV 4/5] END .................model__alpha=7.9;, score=-6.806 total time=   0.0s\n",
      "[CV 5/5] END .................model__alpha=7.9;, score=-4.918 total time=   0.0s\n",
      "[CV 1/5] END .................model__alpha=8.0;, score=-6.988 total time=   0.0s\n",
      "[CV 2/5] END .................model__alpha=8.0;, score=-7.450 total time=   0.0s\n",
      "[CV 3/5] END .................model__alpha=8.0;, score=-5.417 total time=   0.0s\n",
      "[CV 4/5] END .................model__alpha=8.0;, score=-6.806 total time=   0.0s\n",
      "[CV 5/5] END .................model__alpha=8.0;, score=-4.918 total time=   0.0s\n",
      "[CV 1/5] END .................model__alpha=8.1;, score=-6.988 total time=   0.0s\n",
      "[CV 2/5] END .................model__alpha=8.1;, score=-7.450 total time=   0.0s\n",
      "[CV 3/5] END .................model__alpha=8.1;, score=-5.417 total time=   0.0s\n",
      "[CV 4/5] END .................model__alpha=8.1;, score=-6.806 total time=   0.0s\n",
      "[CV 5/5] END .................model__alpha=8.1;, score=-4.918 total time=   0.0s\n",
      "[CV 1/5] END .................model__alpha=8.2;, score=-6.988 total time=   0.0s\n",
      "[CV 2/5] END .................model__alpha=8.2;, score=-7.450 total time=   0.0s\n",
      "[CV 3/5] END .................model__alpha=8.2;, score=-5.417 total time=   0.0s\n",
      "[CV 4/5] END .................model__alpha=8.2;, score=-6.806 total time=   0.0s\n",
      "[CV 5/5] END .................model__alpha=8.2;, score=-4.918 total time=   0.0s\n",
      "[CV 1/5] END .................model__alpha=8.3;, score=-6.988 total time=   0.0s\n",
      "[CV 2/5] END .................model__alpha=8.3;, score=-7.450 total time=   0.0s\n",
      "[CV 3/5] END .................model__alpha=8.3;, score=-5.417 total time=   0.0s\n",
      "[CV 4/5] END .................model__alpha=8.3;, score=-6.806 total time=   0.0s\n",
      "[CV 5/5] END .................model__alpha=8.3;, score=-4.918 total time=   0.0s\n",
      "[CV 1/5] END .................model__alpha=8.4;, score=-6.988 total time=   0.0s\n",
      "[CV 2/5] END .................model__alpha=8.4;, score=-7.450 total time=   0.0s\n",
      "[CV 3/5] END .................model__alpha=8.4;, score=-5.417 total time=   0.0s\n",
      "[CV 4/5] END .................model__alpha=8.4;, score=-6.806 total time=   0.0s\n",
      "[CV 5/5] END .................model__alpha=8.4;, score=-4.918 total time=   0.0s\n",
      "[CV 1/5] END .................model__alpha=8.5;, score=-6.988 total time=   0.0s\n",
      "[CV 2/5] END .................model__alpha=8.5;, score=-7.450 total time=   0.0s\n",
      "[CV 3/5] END .................model__alpha=8.5;, score=-5.417 total time=   0.0s\n",
      "[CV 4/5] END .................model__alpha=8.5;, score=-6.806 total time=   0.0s\n",
      "[CV 5/5] END .................model__alpha=8.5;, score=-4.918 total time=   0.0s\n",
      "[CV 1/5] END .................model__alpha=8.6;, score=-6.988 total time=   0.0s\n",
      "[CV 2/5] END .................model__alpha=8.6;, score=-7.450 total time=   0.0s\n",
      "[CV 3/5] END .................model__alpha=8.6;, score=-5.417 total time=   0.0s\n",
      "[CV 4/5] END .................model__alpha=8.6;, score=-6.806 total time=   0.0s\n",
      "[CV 5/5] END .................model__alpha=8.6;, score=-4.918 total time=   0.0s\n",
      "[CV 1/5] END .................model__alpha=8.7;, score=-6.988 total time=   0.0s\n",
      "[CV 2/5] END .................model__alpha=8.7;, score=-7.450 total time=   0.0s\n",
      "[CV 3/5] END .................model__alpha=8.7;, score=-5.417 total time=   0.0s\n",
      "[CV 4/5] END .................model__alpha=8.7;, score=-6.806 total time=   0.0s\n",
      "[CV 5/5] END .................model__alpha=8.7;, score=-4.918 total time=   0.0s\n",
      "[CV 1/5] END .................model__alpha=8.8;, score=-6.988 total time=   0.0s\n",
      "[CV 2/5] END .................model__alpha=8.8;, score=-7.450 total time=   0.0s\n",
      "[CV 3/5] END .................model__alpha=8.8;, score=-5.417 total time=   0.0s\n",
      "[CV 4/5] END .................model__alpha=8.8;, score=-6.806 total time=   0.0s\n",
      "[CV 5/5] END .................model__alpha=8.8;, score=-4.918 total time=   0.0s\n",
      "[CV 1/5] END .................model__alpha=8.9;, score=-6.988 total time=   0.0s\n",
      "[CV 2/5] END .................model__alpha=8.9;, score=-7.450 total time=   0.0s\n",
      "[CV 3/5] END .................model__alpha=8.9;, score=-5.417 total time=   0.0s\n",
      "[CV 4/5] END .................model__alpha=8.9;, score=-6.806 total time=   0.0s\n",
      "[CV 5/5] END .................model__alpha=8.9;, score=-4.918 total time=   0.0s\n",
      "[CV 1/5] END .................model__alpha=9.0;, score=-6.988 total time=   0.0s\n",
      "[CV 2/5] END .................model__alpha=9.0;, score=-7.450 total time=   0.0s\n",
      "[CV 3/5] END .................model__alpha=9.0;, score=-5.417 total time=   0.0s\n",
      "[CV 4/5] END .................model__alpha=9.0;, score=-6.806 total time=   0.0s\n",
      "[CV 5/5] END .................model__alpha=9.0;, score=-4.918 total time=   0.0s\n",
      "[CV 1/5] END .................model__alpha=9.1;, score=-6.988 total time=   0.0s\n",
      "[CV 2/5] END .................model__alpha=9.1;, score=-7.450 total time=   0.0s\n",
      "[CV 3/5] END .................model__alpha=9.1;, score=-5.417 total time=   0.0s\n",
      "[CV 4/5] END .................model__alpha=9.1;, score=-6.806 total time=   0.0s\n",
      "[CV 5/5] END .................model__alpha=9.1;, score=-4.918 total time=   0.0s\n",
      "[CV 1/5] END .................model__alpha=9.2;, score=-6.988 total time=   0.0s\n",
      "[CV 2/5] END .................model__alpha=9.2;, score=-7.450 total time=   0.0s\n",
      "[CV 3/5] END .................model__alpha=9.2;, score=-5.417 total time=   0.0s\n",
      "[CV 4/5] END .................model__alpha=9.2;, score=-6.806 total time=   0.0s\n",
      "[CV 5/5] END .................model__alpha=9.2;, score=-4.918 total time=   0.0s\n",
      "[CV 1/5] END .................model__alpha=9.3;, score=-6.988 total time=   0.0s\n",
      "[CV 2/5] END .................model__alpha=9.3;, score=-7.450 total time=   0.0s\n",
      "[CV 3/5] END .................model__alpha=9.3;, score=-5.417 total time=   0.0s\n",
      "[CV 4/5] END .................model__alpha=9.3;, score=-6.806 total time=   0.0s\n",
      "[CV 5/5] END .................model__alpha=9.3;, score=-4.918 total time=   0.0s\n",
      "[CV 1/5] END .................model__alpha=9.4;, score=-6.988 total time=   0.0s\n",
      "[CV 2/5] END .................model__alpha=9.4;, score=-7.450 total time=   0.0s\n",
      "[CV 3/5] END .................model__alpha=9.4;, score=-5.417 total time=   0.0s\n",
      "[CV 4/5] END .................model__alpha=9.4;, score=-6.806 total time=   0.0s\n",
      "[CV 5/5] END .................model__alpha=9.4;, score=-4.918 total time=   0.0s\n",
      "[CV 1/5] END .................model__alpha=9.5;, score=-6.988 total time=   0.0s\n",
      "[CV 2/5] END .................model__alpha=9.5;, score=-7.450 total time=   0.0s\n",
      "[CV 3/5] END .................model__alpha=9.5;, score=-5.417 total time=   0.0s\n",
      "[CV 4/5] END .................model__alpha=9.5;, score=-6.806 total time=   0.0s\n",
      "[CV 5/5] END .................model__alpha=9.5;, score=-4.918 total time=   0.0s\n",
      "[CV 1/5] END .................model__alpha=9.6;, score=-6.988 total time=   0.0s\n",
      "[CV 2/5] END .................model__alpha=9.6;, score=-7.450 total time=   0.0s\n",
      "[CV 3/5] END .................model__alpha=9.6;, score=-5.417 total time=   0.0s\n",
      "[CV 4/5] END .................model__alpha=9.6;, score=-6.806 total time=   0.0s\n",
      "[CV 5/5] END .................model__alpha=9.6;, score=-4.918 total time=   0.0s\n",
      "[CV 1/5] END ...model__alpha=9.700000000000001;, score=-6.988 total time=   0.0s\n",
      "[CV 2/5] END ...model__alpha=9.700000000000001;, score=-7.450 total time=   0.0s\n",
      "[CV 3/5] END ...model__alpha=9.700000000000001;, score=-5.417 total time=   0.0s\n",
      "[CV 4/5] END ...model__alpha=9.700000000000001;, score=-6.806 total time=   0.0s\n",
      "[CV 5/5] END ...model__alpha=9.700000000000001;, score=-4.918 total time=   0.0s\n",
      "[CV 1/5] END .................model__alpha=9.8;, score=-6.988 total time=   0.0s\n",
      "[CV 2/5] END .................model__alpha=9.8;, score=-7.450 total time=   0.0s\n",
      "[CV 3/5] END .................model__alpha=9.8;, score=-5.417 total time=   0.0s\n",
      "[CV 4/5] END .................model__alpha=9.8;, score=-6.806 total time=   0.0s\n",
      "[CV 5/5] END .................model__alpha=9.8;, score=-4.918 total time=   0.0s\n",
      "[CV 1/5] END .................model__alpha=9.9;, score=-6.988 total time=   0.0s\n",
      "[CV 2/5] END .................model__alpha=9.9;, score=-7.450 total time=   0.0s\n",
      "[CV 3/5] END .................model__alpha=9.9;, score=-5.417 total time=   0.0s\n",
      "[CV 4/5] END .................model__alpha=9.9;, score=-6.806 total time=   0.0s\n",
      "[CV 5/5] END .................model__alpha=9.9;, score=-4.918 total time=   0.0s\n"
     ]
    },
    {
     "data": {
      "text/plain": "GridSearchCV(cv=5,\n             estimator=Pipeline(steps=[('scaler', StandardScaler()),\n                                       ('model', Lasso())]),\n             param_grid={'model__alpha': array([0.1, 0.2, 0.3, 0.4, 0.5, 0.6, 0.7, 0.8, 0.9, 1. , 1.1, 1.2, 1.3,\n       1.4, 1.5, 1.6, 1.7, 1.8, 1.9, 2. , 2.1, 2.2, 2.3, 2.4, 2.5, 2.6,\n       2.7, 2.8, 2.9, 3. , 3.1, 3.2, 3.3, 3.4, 3.5, 3.6, 3.7, 3.8, 3.9,\n       4. , 4.1, 4.2, 4.3, 4.4, 4.5, 4.6, 4.7, 4.8, 4.9, 5. , 5.1, 5.2,\n       5.3, 5.4, 5.5, 5.6, 5.7, 5.8, 5.9, 6. , 6.1, 6.2, 6.3, 6.4, 6.5,\n       6.6, 6.7, 6.8, 6.9, 7. , 7.1, 7.2, 7.3, 7.4, 7.5, 7.6, 7.7, 7.8,\n       7.9, 8. , 8.1, 8.2, 8.3, 8.4, 8.5, 8.6, 8.7, 8.8, 8.9, 9. , 9.1,\n       9.2, 9.3, 9.4, 9.5, 9.6, 9.7, 9.8, 9.9])},\n             scoring='neg_mean_squared_error', verbose=3)",
      "text/html": "<style>#sk-container-id-1 {color: black;background-color: white;}#sk-container-id-1 pre{padding: 0;}#sk-container-id-1 div.sk-toggleable {background-color: white;}#sk-container-id-1 label.sk-toggleable__label {cursor: pointer;display: block;width: 100%;margin-bottom: 0;padding: 0.3em;box-sizing: border-box;text-align: center;}#sk-container-id-1 label.sk-toggleable__label-arrow:before {content: \"▸\";float: left;margin-right: 0.25em;color: #696969;}#sk-container-id-1 label.sk-toggleable__label-arrow:hover:before {color: black;}#sk-container-id-1 div.sk-estimator:hover label.sk-toggleable__label-arrow:before {color: black;}#sk-container-id-1 div.sk-toggleable__content {max-height: 0;max-width: 0;overflow: hidden;text-align: left;background-color: #f0f8ff;}#sk-container-id-1 div.sk-toggleable__content pre {margin: 0.2em;color: black;border-radius: 0.25em;background-color: #f0f8ff;}#sk-container-id-1 input.sk-toggleable__control:checked~div.sk-toggleable__content {max-height: 200px;max-width: 100%;overflow: auto;}#sk-container-id-1 input.sk-toggleable__control:checked~label.sk-toggleable__label-arrow:before {content: \"▾\";}#sk-container-id-1 div.sk-estimator input.sk-toggleable__control:checked~label.sk-toggleable__label {background-color: #d4ebff;}#sk-container-id-1 div.sk-label input.sk-toggleable__control:checked~label.sk-toggleable__label {background-color: #d4ebff;}#sk-container-id-1 input.sk-hidden--visually {border: 0;clip: rect(1px 1px 1px 1px);clip: rect(1px, 1px, 1px, 1px);height: 1px;margin: -1px;overflow: hidden;padding: 0;position: absolute;width: 1px;}#sk-container-id-1 div.sk-estimator {font-family: monospace;background-color: #f0f8ff;border: 1px dotted black;border-radius: 0.25em;box-sizing: border-box;margin-bottom: 0.5em;}#sk-container-id-1 div.sk-estimator:hover {background-color: #d4ebff;}#sk-container-id-1 div.sk-parallel-item::after {content: \"\";width: 100%;border-bottom: 1px solid gray;flex-grow: 1;}#sk-container-id-1 div.sk-label:hover label.sk-toggleable__label {background-color: #d4ebff;}#sk-container-id-1 div.sk-serial::before {content: \"\";position: absolute;border-left: 1px solid gray;box-sizing: border-box;top: 0;bottom: 0;left: 50%;z-index: 0;}#sk-container-id-1 div.sk-serial {display: flex;flex-direction: column;align-items: center;background-color: white;padding-right: 0.2em;padding-left: 0.2em;position: relative;}#sk-container-id-1 div.sk-item {position: relative;z-index: 1;}#sk-container-id-1 div.sk-parallel {display: flex;align-items: stretch;justify-content: center;background-color: white;position: relative;}#sk-container-id-1 div.sk-item::before, #sk-container-id-1 div.sk-parallel-item::before {content: \"\";position: absolute;border-left: 1px solid gray;box-sizing: border-box;top: 0;bottom: 0;left: 50%;z-index: -1;}#sk-container-id-1 div.sk-parallel-item {display: flex;flex-direction: column;z-index: 1;position: relative;background-color: white;}#sk-container-id-1 div.sk-parallel-item:first-child::after {align-self: flex-end;width: 50%;}#sk-container-id-1 div.sk-parallel-item:last-child::after {align-self: flex-start;width: 50%;}#sk-container-id-1 div.sk-parallel-item:only-child::after {width: 0;}#sk-container-id-1 div.sk-dashed-wrapped {border: 1px dashed gray;margin: 0 0.4em 0.5em 0.4em;box-sizing: border-box;padding-bottom: 0.4em;background-color: white;}#sk-container-id-1 div.sk-label label {font-family: monospace;font-weight: bold;display: inline-block;line-height: 1.2em;}#sk-container-id-1 div.sk-label-container {text-align: center;}#sk-container-id-1 div.sk-container {/* jupyter's `normalize.less` sets `[hidden] { display: none; }` but bootstrap.min.css set `[hidden] { display: none !important; }` so we also need the `!important` here to be able to override the default hidden behavior on the sphinx rendered scikit-learn.org. See: https://github.com/scikit-learn/scikit-learn/issues/21755 */display: inline-block !important;position: relative;}#sk-container-id-1 div.sk-text-repr-fallback {display: none;}</style><div id=\"sk-container-id-1\" class=\"sk-top-container\"><div class=\"sk-text-repr-fallback\"><pre>GridSearchCV(cv=5,\n             estimator=Pipeline(steps=[(&#x27;scaler&#x27;, StandardScaler()),\n                                       (&#x27;model&#x27;, Lasso())]),\n             param_grid={&#x27;model__alpha&#x27;: array([0.1, 0.2, 0.3, 0.4, 0.5, 0.6, 0.7, 0.8, 0.9, 1. , 1.1, 1.2, 1.3,\n       1.4, 1.5, 1.6, 1.7, 1.8, 1.9, 2. , 2.1, 2.2, 2.3, 2.4, 2.5, 2.6,\n       2.7, 2.8, 2.9, 3. , 3.1, 3.2, 3.3, 3.4, 3.5, 3.6, 3.7, 3.8, 3.9,\n       4. , 4.1, 4.2, 4.3, 4.4, 4.5, 4.6, 4.7, 4.8, 4.9, 5. , 5.1, 5.2,\n       5.3, 5.4, 5.5, 5.6, 5.7, 5.8, 5.9, 6. , 6.1, 6.2, 6.3, 6.4, 6.5,\n       6.6, 6.7, 6.8, 6.9, 7. , 7.1, 7.2, 7.3, 7.4, 7.5, 7.6, 7.7, 7.8,\n       7.9, 8. , 8.1, 8.2, 8.3, 8.4, 8.5, 8.6, 8.7, 8.8, 8.9, 9. , 9.1,\n       9.2, 9.3, 9.4, 9.5, 9.6, 9.7, 9.8, 9.9])},\n             scoring=&#x27;neg_mean_squared_error&#x27;, verbose=3)</pre><b>In a Jupyter environment, please rerun this cell to show the HTML representation or trust the notebook. <br />On GitHub, the HTML representation is unable to render, please try loading this page with nbviewer.org.</b></div><div class=\"sk-container\" hidden><div class=\"sk-item sk-dashed-wrapped\"><div class=\"sk-label-container\"><div class=\"sk-label sk-toggleable\"><input class=\"sk-toggleable__control sk-hidden--visually\" id=\"sk-estimator-id-1\" type=\"checkbox\" ><label for=\"sk-estimator-id-1\" class=\"sk-toggleable__label sk-toggleable__label-arrow\">GridSearchCV</label><div class=\"sk-toggleable__content\"><pre>GridSearchCV(cv=5,\n             estimator=Pipeline(steps=[(&#x27;scaler&#x27;, StandardScaler()),\n                                       (&#x27;model&#x27;, Lasso())]),\n             param_grid={&#x27;model__alpha&#x27;: array([0.1, 0.2, 0.3, 0.4, 0.5, 0.6, 0.7, 0.8, 0.9, 1. , 1.1, 1.2, 1.3,\n       1.4, 1.5, 1.6, 1.7, 1.8, 1.9, 2. , 2.1, 2.2, 2.3, 2.4, 2.5, 2.6,\n       2.7, 2.8, 2.9, 3. , 3.1, 3.2, 3.3, 3.4, 3.5, 3.6, 3.7, 3.8, 3.9,\n       4. , 4.1, 4.2, 4.3, 4.4, 4.5, 4.6, 4.7, 4.8, 4.9, 5. , 5.1, 5.2,\n       5.3, 5.4, 5.5, 5.6, 5.7, 5.8, 5.9, 6. , 6.1, 6.2, 6.3, 6.4, 6.5,\n       6.6, 6.7, 6.8, 6.9, 7. , 7.1, 7.2, 7.3, 7.4, 7.5, 7.6, 7.7, 7.8,\n       7.9, 8. , 8.1, 8.2, 8.3, 8.4, 8.5, 8.6, 8.7, 8.8, 8.9, 9. , 9.1,\n       9.2, 9.3, 9.4, 9.5, 9.6, 9.7, 9.8, 9.9])},\n             scoring=&#x27;neg_mean_squared_error&#x27;, verbose=3)</pre></div></div></div><div class=\"sk-parallel\"><div class=\"sk-parallel-item\"><div class=\"sk-item\"><div class=\"sk-label-container\"><div class=\"sk-label sk-toggleable\"><input class=\"sk-toggleable__control sk-hidden--visually\" id=\"sk-estimator-id-2\" type=\"checkbox\" ><label for=\"sk-estimator-id-2\" class=\"sk-toggleable__label sk-toggleable__label-arrow\">estimator: Pipeline</label><div class=\"sk-toggleable__content\"><pre>Pipeline(steps=[(&#x27;scaler&#x27;, StandardScaler()), (&#x27;model&#x27;, Lasso())])</pre></div></div></div><div class=\"sk-serial\"><div class=\"sk-item\"><div class=\"sk-serial\"><div class=\"sk-item\"><div class=\"sk-estimator sk-toggleable\"><input class=\"sk-toggleable__control sk-hidden--visually\" id=\"sk-estimator-id-3\" type=\"checkbox\" ><label for=\"sk-estimator-id-3\" class=\"sk-toggleable__label sk-toggleable__label-arrow\">StandardScaler</label><div class=\"sk-toggleable__content\"><pre>StandardScaler()</pre></div></div></div><div class=\"sk-item\"><div class=\"sk-estimator sk-toggleable\"><input class=\"sk-toggleable__control sk-hidden--visually\" id=\"sk-estimator-id-4\" type=\"checkbox\" ><label for=\"sk-estimator-id-4\" class=\"sk-toggleable__label sk-toggleable__label-arrow\">Lasso</label><div class=\"sk-toggleable__content\"><pre>Lasso()</pre></div></div></div></div></div></div></div></div></div></div></div></div>"
     },
     "execution_count": 10,
     "metadata": {},
     "output_type": "execute_result"
    }
   ]
  },
  {
   "cell_type": "code",
   "source": [
    "search.best_params_"
   ],
   "metadata": {
    "colab": {
     "base_uri": "https://localhost:8080/"
    },
    "id": "mchlQlboTnB6",
    "outputId": "57331cb0-855f-4ba1-fbc5-7dce6559dcb0"
   },
   "execution_count": 11,
   "outputs": [
    {
     "data": {
      "text/plain": "{'model__alpha': 0.4}"
     },
     "execution_count": 11,
     "metadata": {},
     "output_type": "execute_result"
    }
   ]
  },
  {
   "cell_type": "code",
   "source": [
    "#Valeur des coefficients de regression et leur importancd\n",
    "coefficients = search.best_estimator_.named_steps['model'].coef_\n",
    "importance = np.abs(coefficients)\n",
    "importance2= importance[np.abs(coefficients)>0]\n",
    "importance2\n",
    "importance"
   ],
   "metadata": {
    "colab": {
     "base_uri": "https://localhost:8080/"
    },
    "id": "jPVZ4vC6T0HE",
    "outputId": "e1af7242-5b94-484b-a210-c91e48972598"
   },
   "execution_count": 22,
   "outputs": [
    {
     "data": {
      "text/plain": "array([[0., 0., 0., ..., 0., 0., 0.],\n       [0., 0., 0., ..., 0., 0., 0.]])"
     },
     "execution_count": 22,
     "metadata": {},
     "output_type": "execute_result"
    }
   ]
  },
  {
   "cell_type": "code",
   "source": [
    "# Trouver l'index de l'élément 6\n",
    "index = np.where( importance == 0.00486397)\n",
    "for i in importance2:\n",
    "  index = np.where( importance == i)\n",
    "  print(index)"
   ],
   "metadata": {
    "colab": {
     "base_uri": "https://localhost:8080/"
    },
    "id": "ym3W_sHo-jEX",
    "outputId": "d21973f4-23b8-4475-b5aa-b802b81d71b2"
   },
   "execution_count": 18,
   "outputs": [
    {
     "name": "stdout",
     "output_type": "stream",
     "text": [
      "(array([1], dtype=int64), array([9], dtype=int64))\n",
      "(array([1], dtype=int64), array([17], dtype=int64))\n",
      "(array([1], dtype=int64), array([117], dtype=int64))\n"
     ]
    }
   ]
  },
  {
   "cell_type": "code",
   "source": [
    "feat[coefficients != 0]"
   ],
   "metadata": {
    "colab": {
     "base_uri": "https://localhost:8080/",
     "height": 287
    },
    "id": "bIN1K9RAUVyH",
    "outputId": "1c4f05cf-357a-40ce-a579-2aee495c2d82"
   },
   "execution_count": 21,
   "outputs": [
    {
     "ename": "IndexError",
     "evalue": "too many indices for array: array is 1-dimensional, but 2 were indexed",
     "output_type": "error",
     "traceback": [
      "\u001B[1;31m---------------------------------------------------------------------------\u001B[0m",
      "\u001B[1;31mIndexError\u001B[0m                                Traceback (most recent call last)",
      "Cell \u001B[1;32mIn[21], line 1\u001B[0m\n\u001B[1;32m----> 1\u001B[0m \u001B[43mfeat\u001B[49m\u001B[43m[\u001B[49m\u001B[43mcoefficients\u001B[49m\u001B[43m \u001B[49m\u001B[38;5;241;43m!=\u001B[39;49m\u001B[43m \u001B[49m\u001B[38;5;241;43m0\u001B[39;49m\u001B[43m]\u001B[49m\n",
      "File \u001B[1;32m~\\miniconda3\\envs\\M1_project\\lib\\site-packages\\pandas\\core\\indexes\\base.py:5339\u001B[0m, in \u001B[0;36mIndex.__getitem__\u001B[1;34m(self, key)\u001B[0m\n\u001B[0;32m   5336\u001B[0m     \u001B[38;5;28;01melse\u001B[39;00m:\n\u001B[0;32m   5337\u001B[0m         key \u001B[38;5;241m=\u001B[39m np\u001B[38;5;241m.\u001B[39masarray(key, dtype\u001B[38;5;241m=\u001B[39m\u001B[38;5;28mbool\u001B[39m)\n\u001B[1;32m-> 5339\u001B[0m result \u001B[38;5;241m=\u001B[39m \u001B[43mgetitem\u001B[49m\u001B[43m(\u001B[49m\u001B[43mkey\u001B[49m\u001B[43m)\u001B[49m\n\u001B[0;32m   5340\u001B[0m \u001B[38;5;66;03m# Because we ruled out integer above, we always get an arraylike here\u001B[39;00m\n\u001B[0;32m   5341\u001B[0m \u001B[38;5;28;01mif\u001B[39;00m result\u001B[38;5;241m.\u001B[39mndim \u001B[38;5;241m>\u001B[39m \u001B[38;5;241m1\u001B[39m:\n",
      "\u001B[1;31mIndexError\u001B[0m: too many indices for array: array is 1-dimensional, but 2 were indexed"
     ]
    }
   ]
  },
  {
   "cell_type": "code",
   "source": [
    "removed_feats = X.columns[( importance == 0).ravel().tolist()]"
   ],
   "metadata": {
    "colab": {
     "base_uri": "https://localhost:8080/",
     "height": 305
    },
    "id": "AAHk1IV_N6uQ",
    "outputId": "05809193-f38b-4b79-866d-f3b66facd983"
   },
   "execution_count": null,
   "outputs": [
    {
     "output_type": "error",
     "ename": "IndexError",
     "evalue": "ignored",
     "traceback": [
      "\u001B[0;31m---------------------------------------------------------------------------\u001B[0m",
      "\u001B[0;31mIndexError\u001B[0m                                Traceback (most recent call last)",
      "\u001B[0;32m<ipython-input-20-ff1cbd838f1b>\u001B[0m in \u001B[0;36m<module>\u001B[0;34m\u001B[0m\n\u001B[0;32m----> 1\u001B[0;31m \u001B[0mremoved_feats\u001B[0m \u001B[0;34m=\u001B[0m \u001B[0mX\u001B[0m\u001B[0;34m.\u001B[0m\u001B[0mcolumns\u001B[0m\u001B[0;34m[\u001B[0m\u001B[0;34m(\u001B[0m \u001B[0mimportance\u001B[0m \u001B[0;34m==\u001B[0m \u001B[0;36m0\u001B[0m\u001B[0;34m)\u001B[0m\u001B[0;34m.\u001B[0m\u001B[0mravel\u001B[0m\u001B[0;34m(\u001B[0m\u001B[0;34m)\u001B[0m\u001B[0;34m.\u001B[0m\u001B[0mtolist\u001B[0m\u001B[0;34m(\u001B[0m\u001B[0;34m)\u001B[0m\u001B[0;34m]\u001B[0m\u001B[0;34m\u001B[0m\u001B[0;34m\u001B[0m\u001B[0m\n\u001B[0m",
      "\u001B[0;32m/usr/local/lib/python3.9/dist-packages/pandas/core/indexes/base.py\u001B[0m in \u001B[0;36m__getitem__\u001B[0;34m(self, key)\u001B[0m\n\u001B[1;32m   5067\u001B[0m             \u001B[0mkey\u001B[0m \u001B[0;34m=\u001B[0m \u001B[0mnp\u001B[0m\u001B[0;34m.\u001B[0m\u001B[0masarray\u001B[0m\u001B[0;34m(\u001B[0m\u001B[0mkey\u001B[0m\u001B[0;34m,\u001B[0m \u001B[0mdtype\u001B[0m\u001B[0;34m=\u001B[0m\u001B[0mbool\u001B[0m\u001B[0;34m)\u001B[0m\u001B[0;34m\u001B[0m\u001B[0;34m\u001B[0m\u001B[0m\n\u001B[1;32m   5068\u001B[0m \u001B[0;34m\u001B[0m\u001B[0m\n\u001B[0;32m-> 5069\u001B[0;31m         \u001B[0mresult\u001B[0m \u001B[0;34m=\u001B[0m \u001B[0mgetitem\u001B[0m\u001B[0;34m(\u001B[0m\u001B[0mkey\u001B[0m\u001B[0;34m)\u001B[0m\u001B[0;34m\u001B[0m\u001B[0;34m\u001B[0m\u001B[0m\n\u001B[0m\u001B[1;32m   5070\u001B[0m         \u001B[0;31m# Because we ruled out integer above, we always get an arraylike here\u001B[0m\u001B[0;34m\u001B[0m\u001B[0;34m\u001B[0m\u001B[0m\n\u001B[1;32m   5071\u001B[0m         \u001B[0;32mif\u001B[0m \u001B[0mresult\u001B[0m\u001B[0;34m.\u001B[0m\u001B[0mndim\u001B[0m \u001B[0;34m>\u001B[0m \u001B[0;36m1\u001B[0m\u001B[0;34m:\u001B[0m\u001B[0;34m\u001B[0m\u001B[0;34m\u001B[0m\u001B[0m\n",
      "\u001B[0;31mIndexError\u001B[0m: boolean index did not match indexed array along dimension 0; dimension is 1043 but corresponding boolean dimension is 2086"
     ]
    }
   ]
  },
  {
   "cell_type": "code",
   "source": [
    "feat=list(feat)\n",
    "feat=np.array(feat)\n",
    "feat[importance2>0]"
   ],
   "metadata": {
    "colab": {
     "base_uri": "https://localhost:8080/",
     "height": 218
    },
    "id": "0o7iLJO3WgzI",
    "outputId": "53d3d495-e17c-45fa-9096-856d4ecffc90"
   },
   "execution_count": null,
   "outputs": [
    {
     "output_type": "error",
     "ename": "IndexError",
     "evalue": "ignored",
     "traceback": [
      "\u001B[0;31m---------------------------------------------------------------------------\u001B[0m",
      "\u001B[0;31mIndexError\u001B[0m                                Traceback (most recent call last)",
      "\u001B[0;32m<ipython-input-35-ff1df96948e0>\u001B[0m in \u001B[0;36m<module>\u001B[0;34m\u001B[0m\n\u001B[1;32m      1\u001B[0m \u001B[0mfeat\u001B[0m\u001B[0;34m=\u001B[0m\u001B[0mlist\u001B[0m\u001B[0;34m(\u001B[0m\u001B[0mfeat\u001B[0m\u001B[0;34m)\u001B[0m\u001B[0;34m\u001B[0m\u001B[0;34m\u001B[0m\u001B[0m\n\u001B[1;32m      2\u001B[0m \u001B[0mfeat\u001B[0m\u001B[0;34m=\u001B[0m\u001B[0mnp\u001B[0m\u001B[0;34m.\u001B[0m\u001B[0marray\u001B[0m\u001B[0;34m(\u001B[0m\u001B[0mfeat\u001B[0m\u001B[0;34m)\u001B[0m\u001B[0;34m\u001B[0m\u001B[0;34m\u001B[0m\u001B[0m\n\u001B[0;32m----> 3\u001B[0;31m \u001B[0mfeat\u001B[0m\u001B[0;34m[\u001B[0m\u001B[0mimportance2\u001B[0m\u001B[0;34m>\u001B[0m\u001B[0;36m0\u001B[0m\u001B[0;34m]\u001B[0m\u001B[0;34m\u001B[0m\u001B[0;34m\u001B[0m\u001B[0m\n\u001B[0m",
      "\u001B[0;31mIndexError\u001B[0m: boolean index did not match indexed array along dimension 0; dimension is 1045 but corresponding boolean dimension is 3"
     ]
    }
   ]
  },
  {
   "cell_type": "code",
   "source": [
    "# Deuxième méthode\n",
    "\n",
    "scaler = StandardScaler()\n",
    "scaler.fit(X)"
   ],
   "metadata": {
    "colab": {
     "base_uri": "https://localhost:8080/",
     "height": 74
    },
    "id": "2cQfPImuMnM-",
    "outputId": "1eaaba49-6750-4fb5-948d-01817a52f636"
   },
   "execution_count": null,
   "outputs": [
    {
     "output_type": "execute_result",
     "data": {
      "text/plain": [
       "StandardScaler()"
      ],
      "text/html": [
       "<style>#sk-container-id-1 {color: black;background-color: white;}#sk-container-id-1 pre{padding: 0;}#sk-container-id-1 div.sk-toggleable {background-color: white;}#sk-container-id-1 label.sk-toggleable__label {cursor: pointer;display: block;width: 100%;margin-bottom: 0;padding: 0.3em;box-sizing: border-box;text-align: center;}#sk-container-id-1 label.sk-toggleable__label-arrow:before {content: \"▸\";float: left;margin-right: 0.25em;color: #696969;}#sk-container-id-1 label.sk-toggleable__label-arrow:hover:before {color: black;}#sk-container-id-1 div.sk-estimator:hover label.sk-toggleable__label-arrow:before {color: black;}#sk-container-id-1 div.sk-toggleable__content {max-height: 0;max-width: 0;overflow: hidden;text-align: left;background-color: #f0f8ff;}#sk-container-id-1 div.sk-toggleable__content pre {margin: 0.2em;color: black;border-radius: 0.25em;background-color: #f0f8ff;}#sk-container-id-1 input.sk-toggleable__control:checked~div.sk-toggleable__content {max-height: 200px;max-width: 100%;overflow: auto;}#sk-container-id-1 input.sk-toggleable__control:checked~label.sk-toggleable__label-arrow:before {content: \"▾\";}#sk-container-id-1 div.sk-estimator input.sk-toggleable__control:checked~label.sk-toggleable__label {background-color: #d4ebff;}#sk-container-id-1 div.sk-label input.sk-toggleable__control:checked~label.sk-toggleable__label {background-color: #d4ebff;}#sk-container-id-1 input.sk-hidden--visually {border: 0;clip: rect(1px 1px 1px 1px);clip: rect(1px, 1px, 1px, 1px);height: 1px;margin: -1px;overflow: hidden;padding: 0;position: absolute;width: 1px;}#sk-container-id-1 div.sk-estimator {font-family: monospace;background-color: #f0f8ff;border: 1px dotted black;border-radius: 0.25em;box-sizing: border-box;margin-bottom: 0.5em;}#sk-container-id-1 div.sk-estimator:hover {background-color: #d4ebff;}#sk-container-id-1 div.sk-parallel-item::after {content: \"\";width: 100%;border-bottom: 1px solid gray;flex-grow: 1;}#sk-container-id-1 div.sk-label:hover label.sk-toggleable__label {background-color: #d4ebff;}#sk-container-id-1 div.sk-serial::before {content: \"\";position: absolute;border-left: 1px solid gray;box-sizing: border-box;top: 0;bottom: 0;left: 50%;z-index: 0;}#sk-container-id-1 div.sk-serial {display: flex;flex-direction: column;align-items: center;background-color: white;padding-right: 0.2em;padding-left: 0.2em;position: relative;}#sk-container-id-1 div.sk-item {position: relative;z-index: 1;}#sk-container-id-1 div.sk-parallel {display: flex;align-items: stretch;justify-content: center;background-color: white;position: relative;}#sk-container-id-1 div.sk-item::before, #sk-container-id-1 div.sk-parallel-item::before {content: \"\";position: absolute;border-left: 1px solid gray;box-sizing: border-box;top: 0;bottom: 0;left: 50%;z-index: -1;}#sk-container-id-1 div.sk-parallel-item {display: flex;flex-direction: column;z-index: 1;position: relative;background-color: white;}#sk-container-id-1 div.sk-parallel-item:first-child::after {align-self: flex-end;width: 50%;}#sk-container-id-1 div.sk-parallel-item:last-child::after {align-self: flex-start;width: 50%;}#sk-container-id-1 div.sk-parallel-item:only-child::after {width: 0;}#sk-container-id-1 div.sk-dashed-wrapped {border: 1px dashed gray;margin: 0 0.4em 0.5em 0.4em;box-sizing: border-box;padding-bottom: 0.4em;background-color: white;}#sk-container-id-1 div.sk-label label {font-family: monospace;font-weight: bold;display: inline-block;line-height: 1.2em;}#sk-container-id-1 div.sk-label-container {text-align: center;}#sk-container-id-1 div.sk-container {/* jupyter's `normalize.less` sets `[hidden] { display: none; }` but bootstrap.min.css set `[hidden] { display: none !important; }` so we also need the `!important` here to be able to override the default hidden behavior on the sphinx rendered scikit-learn.org. See: https://github.com/scikit-learn/scikit-learn/issues/21755 */display: inline-block !important;position: relative;}#sk-container-id-1 div.sk-text-repr-fallback {display: none;}</style><div id=\"sk-container-id-1\" class=\"sk-top-container\"><div class=\"sk-text-repr-fallback\"><pre>StandardScaler()</pre><b>In a Jupyter environment, please rerun this cell to show the HTML representation or trust the notebook. <br />On GitHub, the HTML representation is unable to render, please try loading this page with nbviewer.org.</b></div><div class=\"sk-container\" hidden><div class=\"sk-item\"><div class=\"sk-estimator sk-toggleable\"><input class=\"sk-toggleable__control sk-hidden--visually\" id=\"sk-estimator-id-1\" type=\"checkbox\" checked><label for=\"sk-estimator-id-1\" class=\"sk-toggleable__label sk-toggleable__label-arrow\">StandardScaler</label><div class=\"sk-toggleable__content\"><pre>StandardScaler()</pre></div></div></div></div></div>"
      ]
     },
     "metadata": {},
     "execution_count": 11
    }
   ]
  },
  {
   "cell_type": "code",
   "source": [
    "sel_ = SelectFromModel(Lasso(alpha=0.001, random_state=10))\n",
    "sel_.fit(scaler.transform(X), Y)"
   ],
   "metadata": {
    "colab": {
     "base_uri": "https://localhost:8080/",
     "height": 205
    },
    "id": "tAzs7ADvNa0I",
    "outputId": "405c4266-1ae9-4cad-e005-c86f2185da53"
   },
   "execution_count": null,
   "outputs": [
    {
     "output_type": "stream",
     "name": "stderr",
     "text": [
      "/usr/local/lib/python3.9/dist-packages/sklearn/linear_model/_coordinate_descent.py:631: ConvergenceWarning: Objective did not converge. You might want to increase the number of iterations, check the scale of the features or consider increasing regularisation. Duality gap: 4.524e-01, tolerance: 3.821e-03\n",
      "  model = cd_fast.enet_coordinate_descent(\n",
      "/usr/local/lib/python3.9/dist-packages/sklearn/linear_model/_coordinate_descent.py:631: ConvergenceWarning: Objective did not converge. You might want to increase the number of iterations, check the scale of the features or consider increasing regularisation. Duality gap: 7.736e+00, tolerance: 1.960e-01\n",
      "  model = cd_fast.enet_coordinate_descent(\n"
     ]
    },
    {
     "output_type": "execute_result",
     "data": {
      "text/plain": [
       "SelectFromModel(estimator=Lasso(alpha=0.001, random_state=10))"
      ],
      "text/html": [
       "<style>#sk-container-id-3 {color: black;background-color: white;}#sk-container-id-3 pre{padding: 0;}#sk-container-id-3 div.sk-toggleable {background-color: white;}#sk-container-id-3 label.sk-toggleable__label {cursor: pointer;display: block;width: 100%;margin-bottom: 0;padding: 0.3em;box-sizing: border-box;text-align: center;}#sk-container-id-3 label.sk-toggleable__label-arrow:before {content: \"▸\";float: left;margin-right: 0.25em;color: #696969;}#sk-container-id-3 label.sk-toggleable__label-arrow:hover:before {color: black;}#sk-container-id-3 div.sk-estimator:hover label.sk-toggleable__label-arrow:before {color: black;}#sk-container-id-3 div.sk-toggleable__content {max-height: 0;max-width: 0;overflow: hidden;text-align: left;background-color: #f0f8ff;}#sk-container-id-3 div.sk-toggleable__content pre {margin: 0.2em;color: black;border-radius: 0.25em;background-color: #f0f8ff;}#sk-container-id-3 input.sk-toggleable__control:checked~div.sk-toggleable__content {max-height: 200px;max-width: 100%;overflow: auto;}#sk-container-id-3 input.sk-toggleable__control:checked~label.sk-toggleable__label-arrow:before {content: \"▾\";}#sk-container-id-3 div.sk-estimator input.sk-toggleable__control:checked~label.sk-toggleable__label {background-color: #d4ebff;}#sk-container-id-3 div.sk-label input.sk-toggleable__control:checked~label.sk-toggleable__label {background-color: #d4ebff;}#sk-container-id-3 input.sk-hidden--visually {border: 0;clip: rect(1px 1px 1px 1px);clip: rect(1px, 1px, 1px, 1px);height: 1px;margin: -1px;overflow: hidden;padding: 0;position: absolute;width: 1px;}#sk-container-id-3 div.sk-estimator {font-family: monospace;background-color: #f0f8ff;border: 1px dotted black;border-radius: 0.25em;box-sizing: border-box;margin-bottom: 0.5em;}#sk-container-id-3 div.sk-estimator:hover {background-color: #d4ebff;}#sk-container-id-3 div.sk-parallel-item::after {content: \"\";width: 100%;border-bottom: 1px solid gray;flex-grow: 1;}#sk-container-id-3 div.sk-label:hover label.sk-toggleable__label {background-color: #d4ebff;}#sk-container-id-3 div.sk-serial::before {content: \"\";position: absolute;border-left: 1px solid gray;box-sizing: border-box;top: 0;bottom: 0;left: 50%;z-index: 0;}#sk-container-id-3 div.sk-serial {display: flex;flex-direction: column;align-items: center;background-color: white;padding-right: 0.2em;padding-left: 0.2em;position: relative;}#sk-container-id-3 div.sk-item {position: relative;z-index: 1;}#sk-container-id-3 div.sk-parallel {display: flex;align-items: stretch;justify-content: center;background-color: white;position: relative;}#sk-container-id-3 div.sk-item::before, #sk-container-id-3 div.sk-parallel-item::before {content: \"\";position: absolute;border-left: 1px solid gray;box-sizing: border-box;top: 0;bottom: 0;left: 50%;z-index: -1;}#sk-container-id-3 div.sk-parallel-item {display: flex;flex-direction: column;z-index: 1;position: relative;background-color: white;}#sk-container-id-3 div.sk-parallel-item:first-child::after {align-self: flex-end;width: 50%;}#sk-container-id-3 div.sk-parallel-item:last-child::after {align-self: flex-start;width: 50%;}#sk-container-id-3 div.sk-parallel-item:only-child::after {width: 0;}#sk-container-id-3 div.sk-dashed-wrapped {border: 1px dashed gray;margin: 0 0.4em 0.5em 0.4em;box-sizing: border-box;padding-bottom: 0.4em;background-color: white;}#sk-container-id-3 div.sk-label label {font-family: monospace;font-weight: bold;display: inline-block;line-height: 1.2em;}#sk-container-id-3 div.sk-label-container {text-align: center;}#sk-container-id-3 div.sk-container {/* jupyter's `normalize.less` sets `[hidden] { display: none; }` but bootstrap.min.css set `[hidden] { display: none !important; }` so we also need the `!important` here to be able to override the default hidden behavior on the sphinx rendered scikit-learn.org. See: https://github.com/scikit-learn/scikit-learn/issues/21755 */display: inline-block !important;position: relative;}#sk-container-id-3 div.sk-text-repr-fallback {display: none;}</style><div id=\"sk-container-id-3\" class=\"sk-top-container\"><div class=\"sk-text-repr-fallback\"><pre>SelectFromModel(estimator=Lasso(alpha=0.001, random_state=10))</pre><b>In a Jupyter environment, please rerun this cell to show the HTML representation or trust the notebook. <br />On GitHub, the HTML representation is unable to render, please try loading this page with nbviewer.org.</b></div><div class=\"sk-container\" hidden><div class=\"sk-item sk-dashed-wrapped\"><div class=\"sk-label-container\"><div class=\"sk-label sk-toggleable\"><input class=\"sk-toggleable__control sk-hidden--visually\" id=\"sk-estimator-id-6\" type=\"checkbox\" ><label for=\"sk-estimator-id-6\" class=\"sk-toggleable__label sk-toggleable__label-arrow\">SelectFromModel</label><div class=\"sk-toggleable__content\"><pre>SelectFromModel(estimator=Lasso(alpha=0.001, random_state=10))</pre></div></div></div><div class=\"sk-parallel\"><div class=\"sk-parallel-item\"><div class=\"sk-item\"><div class=\"sk-label-container\"><div class=\"sk-label sk-toggleable\"><input class=\"sk-toggleable__control sk-hidden--visually\" id=\"sk-estimator-id-7\" type=\"checkbox\" ><label for=\"sk-estimator-id-7\" class=\"sk-toggleable__label sk-toggleable__label-arrow\">estimator: Lasso</label><div class=\"sk-toggleable__content\"><pre>Lasso(alpha=0.001, random_state=10)</pre></div></div></div><div class=\"sk-serial\"><div class=\"sk-item\"><div class=\"sk-estimator sk-toggleable\"><input class=\"sk-toggleable__control sk-hidden--visually\" id=\"sk-estimator-id-8\" type=\"checkbox\" ><label for=\"sk-estimator-id-8\" class=\"sk-toggleable__label sk-toggleable__label-arrow\">Lasso</label><div class=\"sk-toggleable__content\"><pre>Lasso(alpha=0.001, random_state=10)</pre></div></div></div></div></div></div></div></div></div></div>"
      ]
     },
     "metadata": {},
     "execution_count": 21
    }
   ]
  },
  {
   "cell_type": "code",
   "source": [
    "sel_.get_support()\n"
   ],
   "metadata": {
    "colab": {
     "base_uri": "https://localhost:8080/"
    },
    "id": "dF4hf-lkPZoH",
    "outputId": "995dbec7-0875-48b2-c82d-068451752525"
   },
   "execution_count": null,
   "outputs": [
    {
     "output_type": "execute_result",
     "data": {
      "text/plain": [
       "array([ True,  True,  True, ..., False,  True,  True])"
      ]
     },
     "metadata": {},
     "execution_count": 22
    }
   ]
  },
  {
   "cell_type": "code",
   "source": [
    "sel_.get_feature_names_out()"
   ],
   "metadata": {
    "colab": {
     "base_uri": "https://localhost:8080/"
    },
    "id": "-13gkAmaPt7K",
    "outputId": "134471c4-fed5-464a-cb56-6d8df9c00479"
   },
   "execution_count": null,
   "outputs": [
    {
     "output_type": "execute_result",
     "data": {
      "text/plain": [
       "array(['x0', 'x1', 'x2', 'x3', 'x4', 'x5', 'x6', 'x7', 'x8', 'x9', 'x10',\n",
       "       'x11', 'x12', 'x13', 'x14', 'x15', 'x16', 'x17', 'x18', 'x20',\n",
       "       'x23', 'x24', 'x25', 'x26', 'x28', 'x31', 'x34', 'x40', 'x41',\n",
       "       'x44', 'x45', 'x46', 'x50', 'x54', 'x60', 'x67', 'x70', 'x72',\n",
       "       'x74', 'x79', 'x82', 'x83', 'x84', 'x86', 'x87', 'x89', 'x90',\n",
       "       'x95', 'x97', 'x101', 'x102', 'x104', 'x105', 'x106', 'x107',\n",
       "       'x108', 'x109', 'x111', 'x112', 'x117', 'x119', 'x120', 'x125',\n",
       "       'x127', 'x129', 'x132', 'x138', 'x139', 'x141', 'x142', 'x146',\n",
       "       'x147', 'x150', 'x154', 'x155', 'x158', 'x161', 'x162', 'x168',\n",
       "       'x169', 'x170', 'x171', 'x175', 'x176', 'x177', 'x178', 'x184',\n",
       "       'x186', 'x187', 'x191', 'x196', 'x197', 'x202', 'x205', 'x206',\n",
       "       'x207', 'x209', 'x210', 'x211', 'x212', 'x213', 'x215', 'x217',\n",
       "       'x218', 'x219', 'x220', 'x222', 'x225', 'x234', 'x235', 'x237',\n",
       "       'x240', 'x241', 'x243', 'x245', 'x246', 'x247', 'x248', 'x250',\n",
       "       'x254', 'x255', 'x259', 'x260', 'x261', 'x264', 'x266', 'x269',\n",
       "       'x270', 'x272', 'x274', 'x276', 'x280', 'x282', 'x287', 'x288',\n",
       "       'x289', 'x290', 'x293', 'x295', 'x302', 'x304', 'x305', 'x306',\n",
       "       'x307', 'x312', 'x316', 'x323', 'x330', 'x344', 'x346', 'x348',\n",
       "       'x358', 'x359', 'x362', 'x365', 'x368', 'x370', 'x372', 'x379',\n",
       "       'x382', 'x386', 'x387', 'x391', 'x394', 'x395', 'x399', 'x401',\n",
       "       'x403', 'x405', 'x406', 'x407', 'x408', 'x409', 'x413', 'x415',\n",
       "       'x418', 'x420', 'x421', 'x422', 'x425', 'x430', 'x431', 'x432',\n",
       "       'x435', 'x437', 'x438', 'x440', 'x443', 'x448', 'x449', 'x451',\n",
       "       'x454', 'x455', 'x458', 'x461', 'x462', 'x463', 'x469', 'x470',\n",
       "       'x471', 'x476', 'x477', 'x478', 'x480', 'x483', 'x484', 'x488',\n",
       "       'x492', 'x501', 'x502', 'x503', 'x504', 'x505', 'x506', 'x511',\n",
       "       'x513', 'x517', 'x518', 'x527', 'x529', 'x530', 'x534', 'x540',\n",
       "       'x542', 'x544', 'x545', 'x546', 'x549', 'x551', 'x552', 'x554',\n",
       "       'x555', 'x556', 'x558', 'x559', 'x560', 'x562', 'x563', 'x564',\n",
       "       'x565', 'x569', 'x572', 'x574', 'x577', 'x578', 'x579', 'x581',\n",
       "       'x582', 'x584', 'x585', 'x590', 'x591', 'x596', 'x598', 'x599',\n",
       "       'x601', 'x602', 'x603', 'x604', 'x605', 'x608', 'x610', 'x611',\n",
       "       'x616', 'x617', 'x618', 'x620', 'x621', 'x622', 'x623', 'x624',\n",
       "       'x625', 'x627', 'x630', 'x637', 'x638', 'x639', 'x641', 'x649',\n",
       "       'x650', 'x657', 'x658', 'x660', 'x661', 'x662', 'x663', 'x664',\n",
       "       'x669', 'x671', 'x672', 'x673', 'x674', 'x675', 'x677', 'x679',\n",
       "       'x681', 'x682', 'x685', 'x686', 'x689', 'x691', 'x692', 'x696',\n",
       "       'x697', 'x701', 'x703', 'x704', 'x705', 'x707', 'x713', 'x715',\n",
       "       'x721', 'x724', 'x725', 'x726', 'x728', 'x729', 'x731', 'x732',\n",
       "       'x736', 'x738', 'x739', 'x740', 'x742', 'x743', 'x753', 'x754',\n",
       "       'x755', 'x756', 'x757', 'x758', 'x759', 'x760', 'x764', 'x767',\n",
       "       'x771', 'x775', 'x778', 'x780', 'x782', 'x792', 'x795', 'x796',\n",
       "       'x800', 'x802', 'x803', 'x804', 'x805', 'x808', 'x809', 'x810',\n",
       "       'x811', 'x812', 'x813', 'x818', 'x819', 'x824', 'x825', 'x828',\n",
       "       'x831', 'x834', 'x835', 'x837', 'x839', 'x841', 'x842', 'x845',\n",
       "       'x846', 'x847', 'x848', 'x849', 'x851', 'x852', 'x853', 'x854',\n",
       "       'x856', 'x857', 'x859', 'x860', 'x862', 'x863', 'x864', 'x865',\n",
       "       'x868', 'x871', 'x873', 'x878', 'x880', 'x882', 'x887', 'x888',\n",
       "       'x889', 'x894', 'x897', 'x899', 'x907', 'x920', 'x922', 'x925',\n",
       "       'x928', 'x936', 'x937', 'x938', 'x940', 'x941', 'x948', 'x950',\n",
       "       'x952', 'x955', 'x956', 'x957', 'x960', 'x962', 'x965', 'x968',\n",
       "       'x969', 'x970', 'x971', 'x972', 'x975', 'x979', 'x980', 'x981',\n",
       "       'x984', 'x985', 'x986', 'x989', 'x998', 'x1009', 'x1010', 'x1011',\n",
       "       'x1013', 'x1014', 'x1016', 'x1017', 'x1020', 'x1022', 'x1025',\n",
       "       'x1028', 'x1030', 'x1031', 'x1036', 'x1039', 'x1041', 'x1042'],\n",
       "      dtype=object)"
      ]
     },
     "metadata": {},
     "execution_count": 23
    }
   ]
  },
  {
   "cell_type": "code",
   "source": [
    "removed_feats = X.columns[(sel_.estimator_.coef_ == 0).ravel().tolist()]"
   ],
   "metadata": {
    "colab": {
     "base_uri": "https://localhost:8080/",
     "height": 305
    },
    "id": "MMkTIcKeQLxq",
    "outputId": "cbbf9115-5fda-418f-9e59-541519dde9f1"
   },
   "execution_count": null,
   "outputs": [
    {
     "output_type": "error",
     "ename": "IndexError",
     "evalue": "ignored",
     "traceback": [
      "\u001B[0;31m---------------------------------------------------------------------------\u001B[0m",
      "\u001B[0;31mIndexError\u001B[0m                                Traceback (most recent call last)",
      "\u001B[0;32m<ipython-input-24-fe73ebdced86>\u001B[0m in \u001B[0;36m<module>\u001B[0;34m\u001B[0m\n\u001B[0;32m----> 1\u001B[0;31m \u001B[0mremoved_feats\u001B[0m \u001B[0;34m=\u001B[0m \u001B[0mX\u001B[0m\u001B[0;34m.\u001B[0m\u001B[0mcolumns\u001B[0m\u001B[0;34m[\u001B[0m\u001B[0;34m(\u001B[0m\u001B[0msel_\u001B[0m\u001B[0;34m.\u001B[0m\u001B[0mestimator_\u001B[0m\u001B[0;34m.\u001B[0m\u001B[0mcoef_\u001B[0m \u001B[0;34m==\u001B[0m \u001B[0;36m0\u001B[0m\u001B[0;34m)\u001B[0m\u001B[0;34m.\u001B[0m\u001B[0mravel\u001B[0m\u001B[0;34m(\u001B[0m\u001B[0;34m)\u001B[0m\u001B[0;34m.\u001B[0m\u001B[0mtolist\u001B[0m\u001B[0;34m(\u001B[0m\u001B[0;34m)\u001B[0m\u001B[0;34m]\u001B[0m\u001B[0;34m\u001B[0m\u001B[0;34m\u001B[0m\u001B[0m\n\u001B[0m",
      "\u001B[0;32m/usr/local/lib/python3.9/dist-packages/pandas/core/indexes/base.py\u001B[0m in \u001B[0;36m__getitem__\u001B[0;34m(self, key)\u001B[0m\n\u001B[1;32m   5067\u001B[0m             \u001B[0mkey\u001B[0m \u001B[0;34m=\u001B[0m \u001B[0mnp\u001B[0m\u001B[0;34m.\u001B[0m\u001B[0masarray\u001B[0m\u001B[0;34m(\u001B[0m\u001B[0mkey\u001B[0m\u001B[0;34m,\u001B[0m \u001B[0mdtype\u001B[0m\u001B[0;34m=\u001B[0m\u001B[0mbool\u001B[0m\u001B[0;34m)\u001B[0m\u001B[0;34m\u001B[0m\u001B[0;34m\u001B[0m\u001B[0m\n\u001B[1;32m   5068\u001B[0m \u001B[0;34m\u001B[0m\u001B[0m\n\u001B[0;32m-> 5069\u001B[0;31m         \u001B[0mresult\u001B[0m \u001B[0;34m=\u001B[0m \u001B[0mgetitem\u001B[0m\u001B[0;34m(\u001B[0m\u001B[0mkey\u001B[0m\u001B[0;34m)\u001B[0m\u001B[0;34m\u001B[0m\u001B[0;34m\u001B[0m\u001B[0m\n\u001B[0m\u001B[1;32m   5070\u001B[0m         \u001B[0;31m# Because we ruled out integer above, we always get an arraylike here\u001B[0m\u001B[0;34m\u001B[0m\u001B[0;34m\u001B[0m\u001B[0m\n\u001B[1;32m   5071\u001B[0m         \u001B[0;32mif\u001B[0m \u001B[0mresult\u001B[0m\u001B[0;34m.\u001B[0m\u001B[0mndim\u001B[0m \u001B[0;34m>\u001B[0m \u001B[0;36m1\u001B[0m\u001B[0;34m:\u001B[0m\u001B[0;34m\u001B[0m\u001B[0;34m\u001B[0m\u001B[0m\n",
      "\u001B[0;31mIndexError\u001B[0m: boolean index did not match indexed array along dimension 0; dimension is 1043 but corresponding boolean dimension is 2086"
     ]
    }
   ]
  },
  {
   "cell_type": "code",
   "source": [
    "X_train_selected = sel_.transform(scaler.transform(X))\n"
   ],
   "metadata": {
    "colab": {
     "base_uri": "https://localhost:8080/",
     "height": 183
    },
    "id": "OinYXtTwRRld",
    "outputId": "b431788c-66b7-4eb4-ea52-fd19470d90d4"
   },
   "execution_count": null,
   "outputs": [
    {
     "output_type": "error",
     "ename": "AttributeError",
     "evalue": "ignored",
     "traceback": [
      "\u001B[0;31m---------------------------------------------------------------------------\u001B[0m",
      "\u001B[0;31mAttributeError\u001B[0m                            Traceback (most recent call last)",
      "\u001B[0;32m<ipython-input-26-6575a92da90c>\u001B[0m in \u001B[0;36m<module>\u001B[0;34m\u001B[0m\n\u001B[1;32m      1\u001B[0m \u001B[0mX_train_selected\u001B[0m \u001B[0;34m=\u001B[0m \u001B[0msel_\u001B[0m\u001B[0;34m.\u001B[0m\u001B[0mtransform\u001B[0m\u001B[0;34m(\u001B[0m\u001B[0mscaler\u001B[0m\u001B[0;34m.\u001B[0m\u001B[0mtransform\u001B[0m\u001B[0;34m(\u001B[0m\u001B[0mX\u001B[0m\u001B[0;34m)\u001B[0m\u001B[0;34m)\u001B[0m\u001B[0;34m\u001B[0m\u001B[0;34m\u001B[0m\u001B[0m\n\u001B[0;32m----> 2\u001B[0;31m \u001B[0mX_train_selected\u001B[0m\u001B[0;34m.\u001B[0m\u001B[0mhead\u001B[0m\u001B[0;34m(\u001B[0m\u001B[0;36m10\u001B[0m\u001B[0;34m)\u001B[0m\u001B[0;34m\u001B[0m\u001B[0;34m\u001B[0m\u001B[0m\n\u001B[0m",
      "\u001B[0;31mAttributeError\u001B[0m: 'numpy.ndarray' object has no attribute 'head'"
     ]
    }
   ]
  }
 ]
}
