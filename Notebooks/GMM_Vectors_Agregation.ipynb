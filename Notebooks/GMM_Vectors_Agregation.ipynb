{
 "cells": [
  {
   "cell_type": "code",
   "execution_count": null,
   "metadata": {
    "collapsed": true
   },
   "outputs": [],
   "source": [
    "import pickle\n",
    "import numpy as np\n",
    "import pandas as pd"
   ]
  },
  {
   "cell_type": "code",
   "execution_count": null,
   "outputs": [],
   "source": [
    "EXTRACTED_FEATURES_SAVE_ADDR = \"../extracted_features.pickle\"\n",
    "NUMBER_OF_PCA_COMPONENTS = 512"
   ],
   "metadata": {
    "collapsed": false
   }
  },
  {
   "cell_type": "code",
   "execution_count": null,
   "outputs": [],
   "source": [
    "# read extracted features from pickle file\n",
    "def read_extracted_features(extracted_features_save_adr):\n",
    "    with open(extracted_features_save_adr, 'rb') as input_file:\n",
    "        return pickle.load(input_file)"
   ],
   "metadata": {
    "collapsed": false
   }
  },
  {
   "cell_type": "code",
   "execution_count": null,
   "outputs": [],
   "source": [
    "features = read_extracted_features(EXTRACTED_FEATURES_SAVE_ADDR)\n",
    "features = dict(features)\n",
    "len(features)"
   ],
   "metadata": {
    "collapsed": false
   }
  },
  {
   "cell_type": "code",
   "execution_count": null,
   "outputs": [],
   "source": [
    "# Réduction dimensionnelle\n",
    "from sklearn.decomposition import PCA\n",
    "from sklearn.mixture import GaussianMixture"
   ],
   "metadata": {
    "collapsed": false
   }
  },
  {
   "cell_type": "code",
   "execution_count": null,
   "outputs": [],
   "source": [
    "df1 = pd.DataFrame.from_dict({(i,j): features[i][j]\n",
    "                            for i in features.keys()\n",
    "                            for j in features[i].keys()},orient='index')\n",
    "df1.shape"
   ],
   "metadata": {
    "collapsed": false
   }
  },
  {
   "cell_type": "code",
   "execution_count": null,
   "outputs": [],
   "source": [
    "pca = PCA(n_components=NUMBER_OF_PCA_COMPONENTS, svd_solver='full', whiten=True)\n",
    "feat1=pca.fit_transform(df1)"
   ],
   "metadata": {
    "collapsed": false
   }
  },
  {
   "cell_type": "code",
   "execution_count": null,
   "outputs": [],
   "source": [
    "new_features = {}\n",
    "\n",
    "for patient, arrays in features.items():\n",
    "    num_arrays = len(arrays)\n",
    "    start_index = sum(len(features[p]) for p in features.keys() if p < patient)\n",
    "    end_index = start_index + num_arrays\n",
    "    new_features[patient] = feat1[start_index:end_index]"
   ],
   "metadata": {
    "collapsed": false
   }
  },
  {
   "cell_type": "code",
   "execution_count": null,
   "outputs": [],
   "source": [
    "patient_1 = list(new_features.keys())[0]\n",
    "len(new_features[patient_1])\n",
    "new_features[patient_1]"
   ],
   "metadata": {
    "collapsed": false
   }
  },
  {
   "cell_type": "code",
   "execution_count": null,
   "outputs": [],
   "source": [
    "#Gaussian\n",
    "gmm_features={}\n",
    "for patient in new_features.keys():\n",
    "    gmm = GaussianMixture(n_components=1,covariance_type='diag')\n",
    "    gmm.fit(new_features[patient])\n",
    "    mean_cov = np.concatenate([gmm.means_, gmm.covariances_], axis=1)\n",
    "    gmm_features.update({patient: mean_cov})\n"
   ],
   "metadata": {
    "collapsed": false
   }
  },
  {
   "cell_type": "code",
   "execution_count": null,
   "outputs": [],
   "source": [
    "len(gmm_features)\n",
    "patient_1 = list(gmm_features.keys())[0]\n",
    "gmm_features[patient_1]\n",
    "#gmm_features"
   ],
   "metadata": {
    "collapsed": false
   }
  },
  {
   "cell_type": "code",
   "execution_count": null,
   "outputs": [],
   "source": [
    "reshaped_gmm_features = {}\n",
    "for key, value in gmm_features.items():\n",
    "    reshaped_gmm_features[key] = value.reshape(-1)\n",
    "df = pd.DataFrame.from_dict(reshaped_gmm_features, orient='index')\n",
    "df.to_csv('../CSV/features_gmm3.csv', index=True, header=True)"
   ],
   "metadata": {
    "collapsed": false
   }
  },
  {
   "cell_type": "code",
   "execution_count": null,
   "outputs": [],
   "source": [
    "# Merge the extracted features with the clinical data on the patient ID\n",
    "clinical_data = pd.read_csv('../CSV/clinical_data_with_no_missing_values.csv')\n",
    "clinical_data = clinical_data.set_index('patient_id')\n",
    "features1 = pd.read_csv('../CSV/features_gmm3.csv')\n",
    "features1 = features1.set_index('Unnamed: 0')\n",
    "features1 = clinical_data.join(features1)\n",
    "features1.to_csv('../CSV/features_gmm3_with_clinical_data.csv', index=True, header=True)"
   ],
   "metadata": {
    "collapsed": false
   }
  }
 ],
 "metadata": {
  "kernelspec": {
   "display_name": "Python 3",
   "language": "python",
   "name": "python3"
  },
  "language_info": {
   "codemirror_mode": {
    "name": "ipython",
    "version": 2
   },
   "file_extension": ".py",
   "mimetype": "text/x-python",
   "name": "python",
   "nbconvert_exporter": "python",
   "pygments_lexer": "ipython2",
   "version": "2.7.6"
  }
 },
 "nbformat": 4,
 "nbformat_minor": 0
}
