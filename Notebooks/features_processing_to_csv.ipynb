{
 "cells": [
  {
   "cell_type": "code",
   "execution_count": null,
   "metadata": {
    "collapsed": true
   },
   "outputs": [],
   "source": [
    "import pickle\n",
    "import numpy as np\n",
    "import pandas as pd"
   ]
  },
  {
   "cell_type": "code",
   "execution_count": null,
   "outputs": [],
   "source": [
    "extracted_features_save_adr = \"./extracted_features.pickle\""
   ],
   "metadata": {
    "collapsed": false
   }
  },
  {
   "cell_type": "code",
   "execution_count": null,
   "outputs": [],
   "source": [
    "# read extracted features from pickle file\n",
    "def read_extracted_features(extracted_features_save_adr):\n",
    "    with open(extracted_features_save_adr, 'rb') as input_file:\n",
    "        return pickle.load(input_file)"
   ],
   "metadata": {
    "collapsed": false
   }
  },
  {
   "cell_type": "code",
   "execution_count": null,
   "outputs": [],
   "source": [
    "features = read_extracted_features(extracted_features_save_adr)\n",
    "features = dict(features)\n",
    "averaged_features = {}"
   ],
   "metadata": {
    "collapsed": false
   }
  },
  {
   "cell_type": "code",
   "execution_count": null,
   "outputs": [],
   "source": [
    "df = pd.DataFrame.from_dict(features, orient='index')\n",
    "df.reset_index(inplace=True)\n",
    "df = df.rename(columns={'index': 'patient_id'})\n",
    "df['patient_id'] = df['patient_id'].astype(np.int64)\n",
    "df.to_csv('features_for_all_patches.csv', index=False, header=True)"
   ],
   "metadata": {
    "collapsed": false
   }
  },
  {
   "cell_type": "code",
   "execution_count": null,
   "outputs": [],
   "source": [
    "# Create a column with the weight of each patient based on the number of patches\n",
    "weight_col = []\n",
    "total_weight = 0\n",
    "for patient in features.keys():\n",
    "    weight_col.append(len(features[patient]))\n",
    "    total_weight += len(features[patient])\n",
    "    total_weight = float(total_weight)\n",
    "weight_col = np.array(weight_col, dtype=np.float32)\n",
    "weight_col = weight_col / total_weight"
   ],
   "metadata": {
    "collapsed": false
   }
  },
  {
   "cell_type": "code",
   "execution_count": null,
   "outputs": [],
   "source": [
    "# keep the median for each patient patches\n",
    "for patient in features.keys():\n",
    "    averaged_features.update({patient: np.median(list(features[patient].values()), axis=0)})"
   ],
   "metadata": {
    "collapsed": false
   }
  },
  {
   "cell_type": "code",
   "execution_count": null,
   "outputs": [],
   "source": [
    "# Convert the dictionary to a csv file where each row is a patient and each column is a feature using pandas\n",
    "df = pd.DataFrame.from_dict(averaged_features, orient='index')\n",
    "df.reset_index(inplace=True)\n",
    "df = df.rename(columns={'index': 'patient_id'})\n",
    "df['patient_id'] = df['patient_id'].astype(np.int64)\n",
    "#df['weight'] = weight_col\n",
    "df.to_csv('features.csv', index=False, header=True)"
   ],
   "metadata": {
    "collapsed": false
   }
  },
  {
   "cell_type": "code",
   "execution_count": null,
   "outputs": [],
   "source": [
    "# Merge the extracted features with the clinical data on the patient ID\n",
    "clinical_data = pd.read_csv('clinical_data_with_no_missing_values.csv')\n",
    "clinical_data['patient_id'] = clinical_data['patient_id'].astype(np.int64)\n",
    "features_with_clinical_data = clinical_data.merge(df, on='patient_id')\n",
    "features_with_clinical_data.to_csv('features_with_clinical_data_1024_2.csv', index=False, header=True)"
   ],
   "metadata": {
    "collapsed": false
   }
  },
  {
   "cell_type": "code",
   "execution_count": null,
   "outputs": [],
   "source": [
    "df = pd.read_csv('features_with_clinical_data_1024_2.csv')\n",
    "df"
   ],
   "metadata": {
    "collapsed": false
   }
  },
  {
   "cell_type": "code",
   "execution_count": null,
   "outputs": [],
   "source": [],
   "metadata": {
    "collapsed": false
   }
  }
 ],
 "metadata": {
  "kernelspec": {
   "display_name": "Python 3",
   "language": "python",
   "name": "python3"
  },
  "language_info": {
   "codemirror_mode": {
    "name": "ipython",
    "version": 2
   },
   "file_extension": ".py",
   "mimetype": "text/x-python",
   "name": "python",
   "nbconvert_exporter": "python",
   "pygments_lexer": "ipython2",
   "version": "2.7.6"
  }
 },
 "nbformat": 4,
 "nbformat_minor": 0
}
