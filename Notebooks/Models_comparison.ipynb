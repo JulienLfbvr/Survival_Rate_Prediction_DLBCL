{
 "cells": [
  {
   "cell_type": "code",
   "execution_count": null,
   "outputs": [],
   "source": [
    "import os\n",
    "import pickle\n",
    "\n",
    "import matplotlib.pyplot as plt\n",
    "import seaborn as sns"
   ],
   "metadata": {
    "collapsed": false
   }
  },
  {
   "cell_type": "code",
   "execution_count": null,
   "metadata": {
    "collapsed": true
   },
   "outputs": [],
   "source": [
    "def plot_loss(history, title):\n",
    "    plt.figure(figsize=(10, 5))\n",
    "    plt.plot(history['loss'])\n",
    "    plt.plot(history['val_loss'])\n",
    "    plt.title(title)\n",
    "    plt.ylabel('loss')\n",
    "    plt.xlabel('epoch')\n",
    "    plt.legend(['train', 'validation'], loc='upper left')\n",
    "    plt.show()\n",
    "\n",
    "def barplot_best_loss_per_model(histories):\n",
    "    best_loss = []\n",
    "    for history in histories.values():\n",
    "        best_loss.append(min(history['val_loss']))\n",
    "    plt.figure(figsize=(10, 5))\n",
    "    sns.barplot(x=list(histories.keys()), y=best_loss)\n",
    "    # add the value of the best loss to the bar\n",
    "    for i, v in enumerate(best_loss):\n",
    "        plt.text(i, v, str(round(v, 4)), color='black', ha='center')\n",
    "    plt.title('best loss per model')\n",
    "    plt.ylabel('best loss')\n",
    "    plt.xlabel('model')\n",
    "    plt.show()"
   ]
  },
  {
   "cell_type": "code",
   "execution_count": null,
   "outputs": [],
   "source": [
    "# Iterate through all files in results folder\n",
    "losses = dict()\n",
    "for file in os.listdir('../results'):\n",
    "    # Check whether file is in text format or not\n",
    "    if file.endswith(\".pickle\"):\n",
    "        # Create the full input path and read the file\n",
    "        input_path = os.path.join('../results', file)\n",
    "        with open(input_path, 'rb') as input_file:\n",
    "            history = pickle.load(input_file)\n",
    "        # Add history to dictionary\n",
    "        model_name = 'model_' + file.split('_')[2] + '_' + file.split('_')[3]\n",
    "        losses[model_name] = {'loss' : history['loss'], 'val_loss' : history['val_loss']}"
   ],
   "metadata": {
    "collapsed": false
   }
  },
  {
   "cell_type": "code",
   "execution_count": null,
   "outputs": [],
   "source": [
    "for model in losses:\n",
    "    plot_loss(losses[model], model)"
   ],
   "metadata": {
    "collapsed": false
   }
  },
  {
   "cell_type": "code",
   "execution_count": null,
   "outputs": [],
   "source": [
    "barplot_best_loss_per_model(losses)"
   ],
   "metadata": {
    "collapsed": false
   }
  },
  {
   "cell_type": "code",
   "execution_count": null,
   "outputs": [],
   "source": [],
   "metadata": {
    "collapsed": false
   }
  }
 ],
 "metadata": {
  "kernelspec": {
   "display_name": "Python 3",
   "language": "python",
   "name": "python3"
  },
  "language_info": {
   "codemirror_mode": {
    "name": "ipython",
    "version": 2
   },
   "file_extension": ".py",
   "mimetype": "text/x-python",
   "name": "python",
   "nbconvert_exporter": "python",
   "pygments_lexer": "ipython2",
   "version": "2.7.6"
  }
 },
 "nbformat": 4,
 "nbformat_minor": 0
}
