{
 "cells": [
  {
   "cell_type": "code",
   "execution_count": null,
   "metadata": {},
   "outputs": [],
   "source": [
    "import numpy as np\n",
    "import pandas as pd\n",
    "from lifelines import CoxPHFitter\n",
    "from sklearn.decomposition import PCA\n",
    "import warnings\n",
    "pd.set_option('display.max_columns', 500)"
   ]
  },
  {
   "cell_type": "code",
   "execution_count": null,
   "outputs": [],
   "source": [
    "warnings.filterwarnings('ignore', category=FutureWarning)\n",
    "warnings.filterwarnings('ignore', category=RuntimeWarning)\n",
    "warnings.filterwarnings('ignore', category=UserWarning)"
   ],
   "metadata": {
    "collapsed": false
   }
  },
  {
   "cell_type": "markdown",
   "metadata": {},
   "source": [
    "\n",
    "# Specify data locations"
   ]
  },
  {
   "cell_type": "code",
   "execution_count": null,
   "metadata": {},
   "outputs": [],
   "source": [
    "#Specify the path to clinical_data_cleaned.csv, which contains clinical features and outcome data\n",
    "clinical_data_path = \"../CSV/clinical_data_KNN.csv\"\n",
    "\n",
    "#Specify the path to the extracted features from KimiaNet\n",
    "features_path = \"../CSV/features_autoencoder_2.csv.csv\"\n",
    "\n",
    "#Specify the path to the extracted features from KimiaNet with clinical data\n",
    "features_with_clinical_data_path = \"../CSV/features_with_clinical_data_1024_V3.csv\""
   ]
  },
  {
   "cell_type": "markdown",
   "metadata": {},
   "source": [
    "# Select which features to use"
   ]
  },
  {
   "cell_type": "code",
   "execution_count": null,
   "metadata": {},
   "outputs": [],
   "source": [
    "#Specify one of the following: \"ALL\", \"EXTRACTED\", \"CLINICAL\"\n",
    "FEATURES = \"ALL\""
   ]
  },
  {
   "cell_type": "code",
   "execution_count": null,
   "outputs": [],
   "source": [
    "if FEATURES == \"ALL\":\n",
    "    data = features_with_clinical_data_path\n",
    "elif FEATURES == \"EXTRACTED\":\n",
    "    data = features_with_clinical_data_path\n",
    "else:\n",
    "    data = clinical_data_path"
   ],
   "metadata": {
    "collapsed": false
   }
  },
  {
   "cell_type": "code",
   "execution_count": null,
   "outputs": [],
   "source": [
    "df_2 = pd.read_csv(clinical_data_path)\n",
    "if FEATURES == \"ALL\":\n",
    "    df = pd.read_csv(data)\n",
    "    df = df.astype(np.float32)\n",
    "    df.set_index(\"patient_id\", inplace=True)\n",
    "    df.drop([\"PFS\"], inplace=True, axis=1)\n",
    "elif FEATURES == \"EXTRACTED\":\n",
    "    df = pd.read_csv(data)\n",
    "    df = df.astype(np.float32)\n",
    "    df.set_index(\"patient_id\", inplace=True)\n",
    "    df.drop([\"PFS\", \"MYC IHC\", \"BCL2 IHC\", \"BCL6 IHC\", \"CD10 IHC\", \"MUM1 IHC\",\n",
    "           \"HANS\", \"BCL6 FISH\", \"MYC FISH\", \"BCL2 FISH\", \"Age\", \"ECOG PS\", \"LDH\",\n",
    "           \"EN\", \"Stage\", \"IPI Score\", \"IPI Risk Group (4 Class)\", \"RIPI Risk Group\"], inplace=True, axis=1)\n",
    "else:\n",
    "    df = pd.read_csv(data)\n",
    "    df = df.astype(np.float32)\n",
    "    df.set_index(\"patient_id\", inplace=True)\n",
    "    df.drop([\"PFS\"], inplace=True, axis=1)\n",
    "df.rename(columns={\"Follow-up Status\": \"FUS\"}, inplace=True)\n",
    "df"
   ],
   "metadata": {
    "collapsed": false
   }
  },
  {
   "cell_type": "code",
   "execution_count": null,
   "outputs": [],
   "source": [
    "df.describe()"
   ],
   "metadata": {
    "collapsed": false
   }
  },
  {
   "cell_type": "code",
   "execution_count": null,
   "outputs": [],
   "source": [
    "# Rename columns 0, 1, 2, ..., 1023 to \"C0\", \"C1\", \"C2\", ..., \"C1023\"\n",
    "if FEATURES == \"ALL\":\n",
    "    last_cols = [\"C\" + str(i) for i in range(df.shape[1]-19)]\n",
    "    #last_cols = [str(i) for i in range(df.shape[1]-19)]\n",
    "    first_cols = ['MYC IHC', 'BCL2 IHC', 'BCL6 IHC', 'CD10 IHC', 'MUM1 IHC',\n",
    "           'HANS', 'BCL6 FISH', 'MYC FISH', 'BCL2 FISH', 'Age', 'ECOG PS', 'LDH',\n",
    "           'EN', 'Stage', 'IPI Score', 'IPI Risk Group (4 Class)', 'RIPI Risk Group', 'OS', 'FUS']\n",
    "elif FEATURES == \"EXTRACTED\":\n",
    "    last_cols = [\"C\" + str(i) for i in range(df.shape[1]-2)]\n",
    "    first_cols = ['OS', 'FUS']\n",
    "else:\n",
    "    last_cols = []\n",
    "    first_cols = ['MYC IHC', 'BCL2 IHC', 'BCL6 IHC', 'CD10 IHC', 'MUM1 IHC',\n",
    "           'HANS', 'BCL6 FISH', 'MYC FISH', 'BCL2 FISH', 'Age', 'ECOG PS', 'LDH',\n",
    "           'EN', 'Stage', 'IPI Score', 'IPI Risk Group (4 Class)', 'RIPI Risk Group', 'OS', 'FUS']\n",
    "cols = first_cols + last_cols\n",
    "df.columns = cols"
   ],
   "metadata": {
    "collapsed": false
   }
  },
  {
   "cell_type": "code",
   "execution_count": null,
   "outputs": [],
   "source": [
    "# Drop all the columns with a variance of 0\n",
    "final_df = df.loc[:, (df != df.iloc[0]).any()]\n",
    "final_df\n"
   ],
   "metadata": {
    "collapsed": false
   }
  },
  {
   "cell_type": "code",
   "execution_count": null,
   "outputs": [],
   "source": [
    "def PCAMethod(df, n_feats):\n",
    "    new_df = df[last_cols]\n",
    "    pca = PCA(n_components=n_feats)\n",
    "    pca.fit(new_df)\n",
    "    pca_transformed = pca.transform(new_df)\n",
    "    pca_df = pd.DataFrame(data=pca_transformed, columns=['PC{}'.format(i+1) for i in range(n_feats)])\n",
    "    final_df = np.hstack((df[first_cols], pca_df))\n",
    "    final_df= pd.DataFrame(final_df, columns=list(df[first_cols].columns) + list(pca_df.columns))\n",
    "    return final_df"
   ],
   "metadata": {
    "collapsed": false
   }
  },
  {
   "cell_type": "code",
   "execution_count": null,
   "outputs": [],
   "source": [
    "final_df = PCAMethod(df, 128)\n",
    "final_df"
   ],
   "metadata": {
    "collapsed": false
   }
  },
  {
   "cell_type": "code",
   "execution_count": null,
   "outputs": [],
   "source": [
    "# NUMBER_OF_FEATURES = 128\n",
    "#\n",
    "# new_df = df[last_cols]\n",
    "# std = []\n",
    "# for col in new_df.columns:\n",
    "#     std.append(df[col].std())\n",
    "# std = np.array(std)\n",
    "# std_top_n = np.argsort(std)[-NUMBER_OF_FEATURES:]\n",
    "#\n",
    "# std_top_n_df = new_df.iloc[:, std_top_n]\n",
    "# std_top_n_df"
   ],
   "metadata": {
    "collapsed": false
   }
  },
  {
   "cell_type": "code",
   "execution_count": null,
   "outputs": [],
   "source": [
    "# final_df = pd.concat([df[first_cols], std_top_n_df], axis=1)\n",
    "# final_df"
   ],
   "metadata": {
    "collapsed": false
   }
  },
  {
   "cell_type": "markdown",
   "source": [
    "# Preprocess the data (quantile transformation)"
   ],
   "metadata": {
    "collapsed": false
   }
  },
  {
   "cell_type": "code",
   "execution_count": null,
   "outputs": [],
   "source": [
    "from sklearn.preprocessing import QuantileTransformer\n",
    "\n",
    "qt = QuantileTransformer(n_quantiles=10, random_state=42)\n",
    "qt.fit(final_df)\n",
    "final_df = pd.DataFrame.from_records(qt.transform(final_df), columns=final_df.columns)\n",
    "final_df"
   ],
   "metadata": {
    "collapsed": false
   }
  },
  {
   "cell_type": "code",
   "execution_count": null,
   "outputs": [],
   "source": [
    "cph = CoxPHFitter(penalizer=0.01)\n",
    "cph.fit(final_df, duration_col='OS', event_col='FUS', show_progress=True)\n",
    "c_main = cph.score(final_df, scoring_method=\"concordance_index\")\n",
    "print(\"The C-index is: %.3f\" % c_main)"
   ],
   "metadata": {
    "collapsed": false
   }
  },
  {
   "cell_type": "code",
   "execution_count": null,
   "outputs": [],
   "source": [
    "cph.predict_survival_function(final_df.iloc[0:10, :]).plot()"
   ],
   "metadata": {
    "collapsed": false
   }
  },
  {
   "cell_type": "code",
   "execution_count": null,
   "outputs": [],
   "source": [
    "cph.print_summary()"
   ],
   "metadata": {
    "collapsed": false
   }
  },
  {
   "cell_type": "markdown",
   "source": [
    "## Optimism computation"
   ],
   "metadata": {
    "collapsed": false
   }
  },
  {
   "cell_type": "code",
   "execution_count": null,
   "outputs": [],
   "source": [
    "np.random.seed(42)\n",
    "c_b_boot, c_b_orig = [], []\n",
    "num_bootstraps = 1000\n",
    "bootstrap_size = len(final_df)\n",
    "\n",
    "for i in range(num_bootstraps):\n",
    "    choices = np.random.choice(np.arange(0, len(final_df)), size=bootstrap_size, replace=True)\n",
    "    new_df = final_df.iloc[choices]  #sample bootstrap replicate with replacement\n",
    "\n",
    "    cph = CoxPHFitter(penalizer=0.01)\n",
    "    cph.fit(new_df, duration_col='OS', event_col='FUS')  #fit on bootstrap\n",
    "\n",
    "    c = cph.score(new_df, scoring_method=\"concordance_index\")  #score on bootstrap\n",
    "    c_b_boot.append(c)\n",
    "\n",
    "    c = cph.score(final_df, scoring_method=\"concordance_index\")  #score on original\n",
    "    c_b_orig.append(c)\n",
    "\n",
    "c_b_orig = np.array(c_b_orig)\n",
    "c_b_boot = np.array(c_b_boot)"
   ],
   "metadata": {
    "collapsed": false,
    "pycharm": {
     "is_executing": true
    }
   }
  },
  {
   "cell_type": "code",
   "execution_count": null,
   "metadata": {},
   "outputs": [],
   "source": [
    "o = np.mean(c_b_boot - c_b_orig)\n",
    "print(\"measure of optimism: %.3f\" % o)"
   ]
  },
  {
   "cell_type": "code",
   "execution_count": null,
   "outputs": [],
   "source": [
    "c_final = c_main - o\n",
    "print(\"optimism-corrected c-index is %.3f\" % c_final)"
   ],
   "metadata": {
    "collapsed": false
   }
  },
  {
   "cell_type": "markdown",
   "source": [
    "# 95% Confidence Intervals\n"
   ],
   "metadata": {
    "collapsed": false
   }
  },
  {
   "cell_type": "code",
   "execution_count": null,
   "outputs": [],
   "source": [
    "np.random.seed(42)\n",
    "c_indices = []\n",
    "num_bootstraps = 1000\n",
    "bootstrap_size = len(final_df)\n",
    "\n",
    "cph = CoxPHFitter(penalizer=0.0001) #fit on original data\n",
    "cph.fit(final_df, duration_col='OS', event_col='FUS')\n",
    "\n",
    "for i in range(num_bootstraps):\n",
    "    choices = np.random.choice(np.arange(0, len(final_df)), size=bootstrap_size, replace=True)\n",
    "    new_df = final_df.iloc[choices]\n",
    "\n",
    "    c_index = cph.score(new_df, scoring_method=\"concordance_index\")\n",
    "    c_indices.append(c_index)\n",
    "\n",
    "c_indices.sort()\n",
    "hi = c_indices[974]\n",
    "lo = c_indices[24]\n",
    "\n",
    "print(\"Confidence interval is: %.3f - %.3f\" % (lo, hi))"
   ],
   "metadata": {
    "collapsed": false
   }
  },
  {
   "cell_type": "code",
   "execution_count": null,
   "outputs": [],
   "source": [
    "print(\"Adjusting for optimism\")\n",
    "print(\"Adjusted confidence interval is: %.3f - %.3f\" % (lo-o, hi-o))"
   ],
   "metadata": {
    "collapsed": false
   }
  }
 ],
 "metadata": {
  "kernelspec": {
   "display_name": "Python 3",
   "language": "python",
   "name": "python3"
  },
  "language_info": {
   "codemirror_mode": {
    "name": "ipython",
    "version": 3
   },
   "file_extension": ".py",
   "mimetype": "text/x-python",
   "name": "python",
   "nbconvert_exporter": "python",
   "pygments_lexer": "ipython3",
   "version": "3.7.6"
  }
 },
 "nbformat": 4,
 "nbformat_minor": 4
}
