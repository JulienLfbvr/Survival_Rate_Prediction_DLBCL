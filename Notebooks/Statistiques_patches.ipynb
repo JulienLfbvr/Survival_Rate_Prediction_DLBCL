{
 "cells": [
  {
   "cell_type": "markdown",
   "source": [
    "# Statistical Analysis of the patches per patient"
   ],
   "metadata": {
    "collapsed": false
   }
  },
  {
   "cell_type": "code",
   "execution_count": 1,
   "outputs": [],
   "source": [
    "import pickle\n",
    "import numpy as np\n",
    "import pandas as pd\n",
    "\n",
    "extracted_features_save_adr = \"./extracted_features.pickle\"\n",
    "\n",
    "# read extracted features from pickle file\n",
    "def read_extracted_features(extracted_features_save_adr):\n",
    "    with open(extracted_features_save_adr, 'rb') as input_file:\n",
    "        return pickle.load(input_file)\n",
    "\n",
    "\n",
    "features = read_extracted_features(extracted_features_save_adr)\n",
    "features = dict(features)"
   ],
   "metadata": {
    "collapsed": false
   }
  },
  {
   "cell_type": "code",
   "execution_count": 3,
   "outputs": [
    {
     "name": "stdout",
     "output_type": "stream",
     "text": [
      "Total number of patches:  30007\n"
     ]
    }
   ],
   "source": [
    "# Total number of patches\n",
    "total_number_of_patches = 0\n",
    "for key in features.keys():\n",
    "    total_number_of_patches += len(features[key])\n",
    "print(\"Total number of patches: \", total_number_of_patches)"
   ],
   "metadata": {
    "collapsed": false
   }
  },
  {
   "cell_type": "code",
   "execution_count": 2,
   "metadata": {
    "collapsed": true
   },
   "outputs": [
    {
     "name": "stdout",
     "output_type": "stream",
     "text": [
      "Mean number of patches per patient:  176.51176470588234\n"
     ]
    }
   ],
   "source": [
    "# Mean\n",
    "number_of_patches_per_patient = []\n",
    "for key in features.keys():\n",
    "    number_of_patches_per_patient.append(len(features[key]))\n",
    "number_of_patches_per_patient = np.array(number_of_patches_per_patient)\n",
    "print(\"Mean number of patches per patient: \", np.mean(number_of_patches_per_patient))"
   ]
  },
  {
   "cell_type": "code",
   "execution_count": 3,
   "outputs": [
    {
     "name": "stdout",
     "output_type": "stream",
     "text": [
      "Interval [min, max] number of patches per patient:  [22, 321]\n"
     ]
    }
   ],
   "source": [
    "# Interval [min, max]\n",
    "print(\"Interval [min, max] number of patches per patient: \", [np.min(number_of_patches_per_patient), np.max(number_of_patches_per_patient)])"
   ],
   "metadata": {
    "collapsed": false
   }
  },
  {
   "cell_type": "code",
   "execution_count": 4,
   "outputs": [
    {
     "name": "stdout",
     "output_type": "stream",
     "text": [
      "Variance number of patches per patient:  4103.296920415225\n"
     ]
    }
   ],
   "source": [
    "# Variance\n",
    "print(\"Variance number of patches per patient: \", np.var(number_of_patches_per_patient))"
   ],
   "metadata": {
    "collapsed": false
   }
  },
  {
   "cell_type": "code",
   "execution_count": 5,
   "outputs": [
    {
     "name": "stdout",
     "output_type": "stream",
     "text": [
      "Standard Deviation number of patches per patient:  64.05698182411676\n"
     ]
    }
   ],
   "source": [
    "# Standard Deviation\n",
    "print(\"Standard Deviation number of patches per patient: \", np.std(number_of_patches_per_patient))"
   ],
   "metadata": {
    "collapsed": false
   }
  },
  {
   "cell_type": "code",
   "execution_count": 6,
   "outputs": [
    {
     "name": "stdout",
     "output_type": "stream",
     "text": [
      "Median number of patches per patient:  185.0\n"
     ]
    }
   ],
   "source": [
    "# Median\n",
    "print(\"Median number of patches per patient: \", np.median(number_of_patches_per_patient))"
   ],
   "metadata": {
    "collapsed": false
   }
  },
  {
   "cell_type": "code",
   "execution_count": 7,
   "outputs": [
    {
     "name": "stdout",
     "output_type": "stream",
     "text": [
      "Quartiles number of patches per patient:  [122.75 219.  ]\n"
     ]
    }
   ],
   "source": [
    "# Quartiles\n",
    "print(\"Quartiles number of patches per patient: \", np.quantile(number_of_patches_per_patient, [0.25, 0.75]))"
   ],
   "metadata": {
    "collapsed": false
   }
  },
  {
   "cell_type": "code",
   "execution_count": 10,
   "outputs": [
    {
     "data": {
      "text/plain": "<Figure size 640x480 with 1 Axes>",
      "image/png": "[encoded data removed]"
     },
     "metadata": {},
     "output_type": "display_data"
    }
   ],
   "source": [
    "# Histogram\n",
    "import matplotlib.pyplot as plt\n",
    "plt.hist(number_of_patches_per_patient, bins=20)\n",
    "plt.show()"
   ],
   "metadata": {
    "collapsed": false
   }
  },
  {
   "cell_type": "code",
   "execution_count": 11,
   "outputs": [
    {
     "data": {
      "text/plain": "<Figure size 640x480 with 1 Axes>",
      "image/png": "[encoded data removed]"
     },
     "metadata": {},
     "output_type": "display_data"
    }
   ],
   "source": [
    "# Boxplot\n",
    "plt.boxplot(number_of_patches_per_patient)\n",
    "plt.show()"
   ],
   "metadata": {
    "collapsed": false
   }
  },
  {
   "cell_type": "code",
   "execution_count": null,
   "outputs": [],
   "source": [],
   "metadata": {
    "collapsed": false
   }
  }
 ],
 "metadata": {
  "kernelspec": {
   "display_name": "Python 3",
   "language": "python",
   "name": "python3"
  },
  "language_info": {
   "codemirror_mode": {
    "name": "ipython",
    "version": 2
   },
   "file_extension": ".py",
   "mimetype": "text/x-python",
   "name": "python",
   "nbconvert_exporter": "python",
   "pygments_lexer": "ipython2",
   "version": "2.7.6"
  }
 },
 "nbformat": 4,
 "nbformat_minor": 0
}
