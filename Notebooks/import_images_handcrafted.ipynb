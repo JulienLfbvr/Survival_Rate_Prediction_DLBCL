{
 "cells": [
  {
   "cell_type": "code",
   "execution_count": 1,
   "metadata": {
    "collapsed": true
   },
   "outputs": [],
   "source": [
    "import sys\n",
    "sys.path.insert(0, \"D:\\ISEN\\M1\\Projet M1\\KimiaNet\\Scripts\")\n",
    "import KimiaNet_AutoEncoder as Kn\n",
    "import numpy as np\n",
    "import tensorflow as tf\n",
    "import matplotlib.pyplot as plt\n",
    "from tensorflow.keras.applications.densenet import preprocess_input"
   ]
  },
  {
   "cell_type": "code",
   "execution_count": 2,
   "outputs": [],
   "source": [
    "autoencoder = Kn.KimiaNetAutoencoder()"
   ],
   "metadata": {
    "collapsed": false
   }
  },
  {
   "cell_type": "code",
   "execution_count": 3,
   "outputs": [],
   "source": [
    "x = Kn.create_train_dataset(\"D:\\\\ISEN\\\\M1\\\\Projet M1\\\\DLBCL-Morph\\\\Patches\\\\HE\")"
   ],
   "metadata": {
    "collapsed": false
   }
  },
  {
   "cell_type": "code",
   "execution_count": 4,
   "outputs": [],
   "source": [
    "from sklearn.model_selection import train_test_split\n",
    "# Split the dataset into train and test\n",
    "x_train, x_val = train_test_split(x, test_size=0.2, random_state=42)"
   ],
   "metadata": {
    "collapsed": false
   }
  },
  {
   "cell_type": "code",
   "execution_count": 5,
   "outputs": [],
   "source": [
    "import imgaug as ia\n",
    "import imgaug.augmenters as iaa\n",
    "\n",
    "ia.seed(1)\n",
    "seq = iaa.Sequential([\n",
    "    iaa.Crop(percent=(0, 0.2)), # crop images from each side by 0 to 20% (randomly chosen)\n",
    "    iaa.Sometimes(\n",
    "        0.4,\n",
    "        iaa.GaussianBlur(sigma=(0, 3))\n",
    "    ),\n",
    "    iaa.SaltAndPepper(p=(0,0.1), per_channel=True),\n",
    "    iaa.LinearContrast((0.75, 1.5)),\n",
    "    iaa.Affine(\n",
    "        rotate=(-90, 90),\n",
    "    )\n",
    "], random_order=True) # apply augmenters in random order"
   ],
   "metadata": {
    "collapsed": false
   }
  },
  {
   "cell_type": "code",
   "execution_count": 6,
   "outputs": [],
   "source": [
    "y_train = x_train.copy()\n",
    "y_val = x_val.copy()"
   ],
   "metadata": {
    "collapsed": false
   }
  },
  {
   "cell_type": "code",
   "execution_count": null,
   "outputs": [],
   "source": [
    "x_train_aug = seq(images=x_train)\n",
    "tf.cast(x_train_aug, tf.float32)\n",
    "x_train_aug = preprocess_input(x_train_aug)\n",
    "x_val_aug = seq(images=x_val)\n",
    "tf.cast(x_val_aug, tf.float32)\n",
    "x_val_aug = preprocess_input(x_val_aug)"
   ],
   "metadata": {
    "collapsed": false,
    "pycharm": {
     "is_executing": true
    }
   }
  },
  {
   "cell_type": "code",
   "execution_count": null,
   "outputs": [],
   "source": [
    "autoencoder.freeze_encoder()"
   ],
   "metadata": {
    "collapsed": false
   }
  },
  {
   "cell_type": "code",
   "execution_count": null,
   "outputs": [],
   "source": [
    "autoencoder.compile()"
   ],
   "metadata": {
    "collapsed": false
   }
  },
  {
   "cell_type": "code",
   "execution_count": null,
   "outputs": [],
   "source": [
    "autoencoder.model.fit(\n",
    "    x_train_aug,\n",
    "    y_train,\n",
    "    batch_size=8,\n",
    "    epochs=10,\n",
    "    verbose=1,\n",
    "    validation_data=(x_test_aug, y_test),\n",
    "    shuffle=True,\n",
    "    initial_epoch=0,\n",
    ")"
   ],
   "metadata": {
    "collapsed": false
   }
  }
 ],
 "metadata": {
  "kernelspec": {
   "display_name": "Python 3",
   "language": "python",
   "name": "python3"
  },
  "language_info": {
   "codemirror_mode": {
    "name": "ipython",
    "version": 2
   },
   "file_extension": ".py",
   "mimetype": "text/x-python",
   "name": "python",
   "nbconvert_exporter": "python",
   "pygments_lexer": "ipython2",
   "version": "2.7.6"
  }
 },
 "nbformat": 4,
 "nbformat_minor": 0
}
